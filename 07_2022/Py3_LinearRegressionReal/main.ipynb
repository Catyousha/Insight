{
 "cells": [
  {
   "cell_type": "code",
   "execution_count": 87,
   "outputs": [],
   "source": [
    "import os\n",
    "import pandas as pd\n",
    "import tensorflow as tf\n",
    "import numpy as np\n",
    "import matplotlib.pyplot as plt\n",
    "\n",
    "os.environ['KMP_DUPLICATE_LIB_OK']='True'\n",
    "np.warnings.filterwarnings('ignore', category=np.VisibleDeprecationWarning)"
   ],
   "metadata": {
    "collapsed": false,
    "pycharm": {
     "name": "#%%\n"
    }
   }
  },
  {
   "cell_type": "code",
   "execution_count": 88,
   "metadata": {
    "collapsed": true,
    "pycharm": {
     "name": "#%%\n"
    }
   },
   "outputs": [
    {
     "data": {
      "text/plain": "   longitude  latitude  housing_median_age  total_rooms  total_bedrooms  \\\n0    -114.31     34.19                15.0       5612.0          1283.0   \n1    -114.47     34.40                19.0       7650.0          1901.0   \n2    -114.56     33.69                17.0        720.0           174.0   \n3    -114.57     33.64                14.0       1501.0           337.0   \n4    -114.57     33.57                20.0       1454.0           326.0   \n\n   population  households  median_income  median_house_value  \n0      1015.0       472.0         1.4936             66900.0  \n1      1129.0       463.0         1.8200             80100.0  \n2       333.0       117.0         1.6509             85700.0  \n3       515.0       226.0         3.1917             73400.0  \n4       624.0       262.0         1.9250             65500.0  ",
      "text/html": "<div>\n<style scoped>\n    .dataframe tbody tr th:only-of-type {\n        vertical-align: middle;\n    }\n\n    .dataframe tbody tr th {\n        vertical-align: top;\n    }\n\n    .dataframe thead th {\n        text-align: right;\n    }\n</style>\n<table border=\"1\" class=\"dataframe\">\n  <thead>\n    <tr style=\"text-align: right;\">\n      <th></th>\n      <th>longitude</th>\n      <th>latitude</th>\n      <th>housing_median_age</th>\n      <th>total_rooms</th>\n      <th>total_bedrooms</th>\n      <th>population</th>\n      <th>households</th>\n      <th>median_income</th>\n      <th>median_house_value</th>\n    </tr>\n  </thead>\n  <tbody>\n    <tr>\n      <th>0</th>\n      <td>-114.31</td>\n      <td>34.19</td>\n      <td>15.0</td>\n      <td>5612.0</td>\n      <td>1283.0</td>\n      <td>1015.0</td>\n      <td>472.0</td>\n      <td>1.4936</td>\n      <td>66900.0</td>\n    </tr>\n    <tr>\n      <th>1</th>\n      <td>-114.47</td>\n      <td>34.40</td>\n      <td>19.0</td>\n      <td>7650.0</td>\n      <td>1901.0</td>\n      <td>1129.0</td>\n      <td>463.0</td>\n      <td>1.8200</td>\n      <td>80100.0</td>\n    </tr>\n    <tr>\n      <th>2</th>\n      <td>-114.56</td>\n      <td>33.69</td>\n      <td>17.0</td>\n      <td>720.0</td>\n      <td>174.0</td>\n      <td>333.0</td>\n      <td>117.0</td>\n      <td>1.6509</td>\n      <td>85700.0</td>\n    </tr>\n    <tr>\n      <th>3</th>\n      <td>-114.57</td>\n      <td>33.64</td>\n      <td>14.0</td>\n      <td>1501.0</td>\n      <td>337.0</td>\n      <td>515.0</td>\n      <td>226.0</td>\n      <td>3.1917</td>\n      <td>73400.0</td>\n    </tr>\n    <tr>\n      <th>4</th>\n      <td>-114.57</td>\n      <td>33.57</td>\n      <td>20.0</td>\n      <td>1454.0</td>\n      <td>326.0</td>\n      <td>624.0</td>\n      <td>262.0</td>\n      <td>1.9250</td>\n      <td>65500.0</td>\n    </tr>\n  </tbody>\n</table>\n</div>"
     },
     "execution_count": 88,
     "metadata": {},
     "output_type": "execute_result"
    }
   ],
   "source": [
    "training_df = pd.read_csv(filepath_or_buffer=\"https://download.mlcc.google.com/mledu-datasets/california_housing_train.csv\")\n",
    "training_df.head()"
   ]
  },
  {
   "cell_type": "code",
   "execution_count": 89,
   "outputs": [
    {
     "data": {
      "text/plain": "   longitude  latitude  housing_median_age  total_rooms  total_bedrooms  \\\n0    -114.31     34.19                15.0       5612.0          1283.0   \n1    -114.47     34.40                19.0       7650.0          1901.0   \n2    -114.56     33.69                17.0        720.0           174.0   \n3    -114.57     33.64                14.0       1501.0           337.0   \n4    -114.57     33.57                20.0       1454.0           326.0   \n\n   population  households  median_income  median_house_value  \n0      1015.0       472.0         1.4936                66.9  \n1      1129.0       463.0         1.8200                80.1  \n2       333.0       117.0         1.6509                85.7  \n3       515.0       226.0         3.1917                73.4  \n4       624.0       262.0         1.9250                65.5  ",
      "text/html": "<div>\n<style scoped>\n    .dataframe tbody tr th:only-of-type {\n        vertical-align: middle;\n    }\n\n    .dataframe tbody tr th {\n        vertical-align: top;\n    }\n\n    .dataframe thead th {\n        text-align: right;\n    }\n</style>\n<table border=\"1\" class=\"dataframe\">\n  <thead>\n    <tr style=\"text-align: right;\">\n      <th></th>\n      <th>longitude</th>\n      <th>latitude</th>\n      <th>housing_median_age</th>\n      <th>total_rooms</th>\n      <th>total_bedrooms</th>\n      <th>population</th>\n      <th>households</th>\n      <th>median_income</th>\n      <th>median_house_value</th>\n    </tr>\n  </thead>\n  <tbody>\n    <tr>\n      <th>0</th>\n      <td>-114.31</td>\n      <td>34.19</td>\n      <td>15.0</td>\n      <td>5612.0</td>\n      <td>1283.0</td>\n      <td>1015.0</td>\n      <td>472.0</td>\n      <td>1.4936</td>\n      <td>66.9</td>\n    </tr>\n    <tr>\n      <th>1</th>\n      <td>-114.47</td>\n      <td>34.40</td>\n      <td>19.0</td>\n      <td>7650.0</td>\n      <td>1901.0</td>\n      <td>1129.0</td>\n      <td>463.0</td>\n      <td>1.8200</td>\n      <td>80.1</td>\n    </tr>\n    <tr>\n      <th>2</th>\n      <td>-114.56</td>\n      <td>33.69</td>\n      <td>17.0</td>\n      <td>720.0</td>\n      <td>174.0</td>\n      <td>333.0</td>\n      <td>117.0</td>\n      <td>1.6509</td>\n      <td>85.7</td>\n    </tr>\n    <tr>\n      <th>3</th>\n      <td>-114.57</td>\n      <td>33.64</td>\n      <td>14.0</td>\n      <td>1501.0</td>\n      <td>337.0</td>\n      <td>515.0</td>\n      <td>226.0</td>\n      <td>3.1917</td>\n      <td>73.4</td>\n    </tr>\n    <tr>\n      <th>4</th>\n      <td>-114.57</td>\n      <td>33.57</td>\n      <td>20.0</td>\n      <td>1454.0</td>\n      <td>326.0</td>\n      <td>624.0</td>\n      <td>262.0</td>\n      <td>1.9250</td>\n      <td>65.5</td>\n    </tr>\n  </tbody>\n</table>\n</div>"
     },
     "execution_count": 89,
     "metadata": {},
     "output_type": "execute_result"
    }
   ],
   "source": [
    "training_df.median_house_value = training_df.median_house_value / 1000.0\n",
    "training_df.head()"
   ],
   "metadata": {
    "collapsed": false,
    "pycharm": {
     "name": "#%%\n"
    }
   }
  },
  {
   "cell_type": "code",
   "execution_count": 90,
   "outputs": [
    {
     "data": {
      "text/plain": "          longitude      latitude  housing_median_age   total_rooms  \\\ncount  17000.000000  17000.000000        17000.000000  17000.000000   \nmean    -119.562108     35.625225           28.589353   2643.664412   \nstd        2.005166      2.137340           12.586937   2179.947071   \nmin     -124.350000     32.540000            1.000000      2.000000   \n25%     -121.790000     33.930000           18.000000   1462.000000   \n50%     -118.490000     34.250000           29.000000   2127.000000   \n75%     -118.000000     37.720000           37.000000   3151.250000   \nmax     -114.310000     41.950000           52.000000  37937.000000   \n\n       total_bedrooms    population    households  median_income  \\\ncount    17000.000000  17000.000000  17000.000000   17000.000000   \nmean       539.410824   1429.573941    501.221941       3.883578   \nstd        421.499452   1147.852959    384.520841       1.908157   \nmin          1.000000      3.000000      1.000000       0.499900   \n25%        297.000000    790.000000    282.000000       2.566375   \n50%        434.000000   1167.000000    409.000000       3.544600   \n75%        648.250000   1721.000000    605.250000       4.767000   \nmax       6445.000000  35682.000000   6082.000000      15.000100   \n\n       median_house_value  \ncount        17000.000000  \nmean           207.300912  \nstd            115.983764  \nmin             14.999000  \n25%            119.400000  \n50%            180.400000  \n75%            265.000000  \nmax            500.001000  ",
      "text/html": "<div>\n<style scoped>\n    .dataframe tbody tr th:only-of-type {\n        vertical-align: middle;\n    }\n\n    .dataframe tbody tr th {\n        vertical-align: top;\n    }\n\n    .dataframe thead th {\n        text-align: right;\n    }\n</style>\n<table border=\"1\" class=\"dataframe\">\n  <thead>\n    <tr style=\"text-align: right;\">\n      <th></th>\n      <th>longitude</th>\n      <th>latitude</th>\n      <th>housing_median_age</th>\n      <th>total_rooms</th>\n      <th>total_bedrooms</th>\n      <th>population</th>\n      <th>households</th>\n      <th>median_income</th>\n      <th>median_house_value</th>\n    </tr>\n  </thead>\n  <tbody>\n    <tr>\n      <th>count</th>\n      <td>17000.000000</td>\n      <td>17000.000000</td>\n      <td>17000.000000</td>\n      <td>17000.000000</td>\n      <td>17000.000000</td>\n      <td>17000.000000</td>\n      <td>17000.000000</td>\n      <td>17000.000000</td>\n      <td>17000.000000</td>\n    </tr>\n    <tr>\n      <th>mean</th>\n      <td>-119.562108</td>\n      <td>35.625225</td>\n      <td>28.589353</td>\n      <td>2643.664412</td>\n      <td>539.410824</td>\n      <td>1429.573941</td>\n      <td>501.221941</td>\n      <td>3.883578</td>\n      <td>207.300912</td>\n    </tr>\n    <tr>\n      <th>std</th>\n      <td>2.005166</td>\n      <td>2.137340</td>\n      <td>12.586937</td>\n      <td>2179.947071</td>\n      <td>421.499452</td>\n      <td>1147.852959</td>\n      <td>384.520841</td>\n      <td>1.908157</td>\n      <td>115.983764</td>\n    </tr>\n    <tr>\n      <th>min</th>\n      <td>-124.350000</td>\n      <td>32.540000</td>\n      <td>1.000000</td>\n      <td>2.000000</td>\n      <td>1.000000</td>\n      <td>3.000000</td>\n      <td>1.000000</td>\n      <td>0.499900</td>\n      <td>14.999000</td>\n    </tr>\n    <tr>\n      <th>25%</th>\n      <td>-121.790000</td>\n      <td>33.930000</td>\n      <td>18.000000</td>\n      <td>1462.000000</td>\n      <td>297.000000</td>\n      <td>790.000000</td>\n      <td>282.000000</td>\n      <td>2.566375</td>\n      <td>119.400000</td>\n    </tr>\n    <tr>\n      <th>50%</th>\n      <td>-118.490000</td>\n      <td>34.250000</td>\n      <td>29.000000</td>\n      <td>2127.000000</td>\n      <td>434.000000</td>\n      <td>1167.000000</td>\n      <td>409.000000</td>\n      <td>3.544600</td>\n      <td>180.400000</td>\n    </tr>\n    <tr>\n      <th>75%</th>\n      <td>-118.000000</td>\n      <td>37.720000</td>\n      <td>37.000000</td>\n      <td>3151.250000</td>\n      <td>648.250000</td>\n      <td>1721.000000</td>\n      <td>605.250000</td>\n      <td>4.767000</td>\n      <td>265.000000</td>\n    </tr>\n    <tr>\n      <th>max</th>\n      <td>-114.310000</td>\n      <td>41.950000</td>\n      <td>52.000000</td>\n      <td>37937.000000</td>\n      <td>6445.000000</td>\n      <td>35682.000000</td>\n      <td>6082.000000</td>\n      <td>15.000100</td>\n      <td>500.001000</td>\n    </tr>\n  </tbody>\n</table>\n</div>"
     },
     "execution_count": 90,
     "metadata": {},
     "output_type": "execute_result"
    }
   ],
   "source": [
    "# The maximum value (max) of several columns seems very\n",
    "# high compared to the other quantiles. For example,\n",
    "# example the total_rooms column. Given the quantile\n",
    "# values (25%, 50%, and 75%), you might expect the\n",
    "# max value of total_rooms to be approximately\n",
    "# 5,000 or possibly 10,000. However, the max value\n",
    "# is actually 37,937.\n",
    "\n",
    "# When you see anomalies in a column, become more careful\n",
    "# about using that column as a feature. That said,\n",
    "# anomalies in potential features sometimes mirror\n",
    "# anomalies in the label, which could make the column\n",
    "# be (or seem to be) a powerful feature.\n",
    "# Also, as you will see later in the course, you\n",
    "# might be able to represent (pre-process) raw data\n",
    "# in order to make columns into useful features.\n",
    "\n",
    "training_df.describe()"
   ],
   "metadata": {
    "collapsed": false,
    "pycharm": {
     "name": "#%%\n"
    }
   }
  },
  {
   "cell_type": "code",
   "execution_count": 91,
   "outputs": [
    {
     "data": {
      "text/plain": "                    longitude  latitude  housing_median_age  total_rooms  \\\nlongitude            1.000000 -0.925208           -0.114250     0.047010   \nlatitude            -0.925208  1.000000            0.016454    -0.038773   \nhousing_median_age  -0.114250  0.016454            1.000000    -0.360984   \ntotal_rooms          0.047010 -0.038773           -0.360984     1.000000   \ntotal_bedrooms       0.071802 -0.069373           -0.320434     0.928403   \npopulation           0.101674 -0.111261           -0.295890     0.860170   \nhouseholds           0.059628 -0.074902           -0.302754     0.919018   \nmedian_income       -0.015485 -0.080303           -0.115932     0.195383   \nmedian_house_value  -0.044982 -0.144917            0.106758     0.130991   \n\n                    total_bedrooms  population  households  median_income  \\\nlongitude                 0.071802    0.101674    0.059628      -0.015485   \nlatitude                 -0.069373   -0.111261   -0.074902      -0.080303   \nhousing_median_age       -0.320434   -0.295890   -0.302754      -0.115932   \ntotal_rooms               0.928403    0.860170    0.919018       0.195383   \ntotal_bedrooms            1.000000    0.881169    0.980920      -0.013495   \npopulation                0.881169    1.000000    0.909247      -0.000638   \nhouseholds                0.980920    0.909247    1.000000       0.007644   \nmedian_income            -0.013495   -0.000638    0.007644       1.000000   \nmedian_house_value        0.045783   -0.027850    0.061031       0.691871   \n\n                    median_house_value  \nlongitude                    -0.044982  \nlatitude                     -0.144917  \nhousing_median_age            0.106758  \ntotal_rooms                   0.130991  \ntotal_bedrooms                0.045783  \npopulation                   -0.027850  \nhouseholds                    0.061031  \nmedian_income                 0.691871  \nmedian_house_value            1.000000  ",
      "text/html": "<div>\n<style scoped>\n    .dataframe tbody tr th:only-of-type {\n        vertical-align: middle;\n    }\n\n    .dataframe tbody tr th {\n        vertical-align: top;\n    }\n\n    .dataframe thead th {\n        text-align: right;\n    }\n</style>\n<table border=\"1\" class=\"dataframe\">\n  <thead>\n    <tr style=\"text-align: right;\">\n      <th></th>\n      <th>longitude</th>\n      <th>latitude</th>\n      <th>housing_median_age</th>\n      <th>total_rooms</th>\n      <th>total_bedrooms</th>\n      <th>population</th>\n      <th>households</th>\n      <th>median_income</th>\n      <th>median_house_value</th>\n    </tr>\n  </thead>\n  <tbody>\n    <tr>\n      <th>longitude</th>\n      <td>1.000000</td>\n      <td>-0.925208</td>\n      <td>-0.114250</td>\n      <td>0.047010</td>\n      <td>0.071802</td>\n      <td>0.101674</td>\n      <td>0.059628</td>\n      <td>-0.015485</td>\n      <td>-0.044982</td>\n    </tr>\n    <tr>\n      <th>latitude</th>\n      <td>-0.925208</td>\n      <td>1.000000</td>\n      <td>0.016454</td>\n      <td>-0.038773</td>\n      <td>-0.069373</td>\n      <td>-0.111261</td>\n      <td>-0.074902</td>\n      <td>-0.080303</td>\n      <td>-0.144917</td>\n    </tr>\n    <tr>\n      <th>housing_median_age</th>\n      <td>-0.114250</td>\n      <td>0.016454</td>\n      <td>1.000000</td>\n      <td>-0.360984</td>\n      <td>-0.320434</td>\n      <td>-0.295890</td>\n      <td>-0.302754</td>\n      <td>-0.115932</td>\n      <td>0.106758</td>\n    </tr>\n    <tr>\n      <th>total_rooms</th>\n      <td>0.047010</td>\n      <td>-0.038773</td>\n      <td>-0.360984</td>\n      <td>1.000000</td>\n      <td>0.928403</td>\n      <td>0.860170</td>\n      <td>0.919018</td>\n      <td>0.195383</td>\n      <td>0.130991</td>\n    </tr>\n    <tr>\n      <th>total_bedrooms</th>\n      <td>0.071802</td>\n      <td>-0.069373</td>\n      <td>-0.320434</td>\n      <td>0.928403</td>\n      <td>1.000000</td>\n      <td>0.881169</td>\n      <td>0.980920</td>\n      <td>-0.013495</td>\n      <td>0.045783</td>\n    </tr>\n    <tr>\n      <th>population</th>\n      <td>0.101674</td>\n      <td>-0.111261</td>\n      <td>-0.295890</td>\n      <td>0.860170</td>\n      <td>0.881169</td>\n      <td>1.000000</td>\n      <td>0.909247</td>\n      <td>-0.000638</td>\n      <td>-0.027850</td>\n    </tr>\n    <tr>\n      <th>households</th>\n      <td>0.059628</td>\n      <td>-0.074902</td>\n      <td>-0.302754</td>\n      <td>0.919018</td>\n      <td>0.980920</td>\n      <td>0.909247</td>\n      <td>1.000000</td>\n      <td>0.007644</td>\n      <td>0.061031</td>\n    </tr>\n    <tr>\n      <th>median_income</th>\n      <td>-0.015485</td>\n      <td>-0.080303</td>\n      <td>-0.115932</td>\n      <td>0.195383</td>\n      <td>-0.013495</td>\n      <td>-0.000638</td>\n      <td>0.007644</td>\n      <td>1.000000</td>\n      <td>0.691871</td>\n    </tr>\n    <tr>\n      <th>median_house_value</th>\n      <td>-0.044982</td>\n      <td>-0.144917</td>\n      <td>0.106758</td>\n      <td>0.130991</td>\n      <td>0.045783</td>\n      <td>-0.027850</td>\n      <td>0.061031</td>\n      <td>0.691871</td>\n      <td>1.000000</td>\n    </tr>\n  </tbody>\n</table>\n</div>"
     },
     "execution_count": 91,
     "metadata": {},
     "output_type": "execute_result"
    }
   ],
   "source": [
    "training_df.corr()"
   ],
   "metadata": {
    "collapsed": false,
    "pycharm": {
     "name": "#%%\n"
    }
   }
  },
  {
   "cell_type": "code",
   "execution_count": 92,
   "outputs": [],
   "source": [
    "def build_model(_learning_rate):\n",
    "    _model = tf.keras.models.Sequential([\n",
    "        tf.keras.layers.Dense(units=1, input_shape=(1,))\n",
    "    ])\n",
    "    _model.compile(\n",
    "        optimizer=tf.keras.optimizers.RMSprop(learning_rate=_learning_rate),\n",
    "        loss=\"mean_squared_error\",\n",
    "        metrics=[tf.keras.metrics.RootMeanSquaredError()]\n",
    "    )\n",
    "    return _model"
   ],
   "metadata": {
    "collapsed": false,
    "pycharm": {
     "name": "#%%\n"
    }
   }
  },
  {
   "cell_type": "code",
   "execution_count": 93,
   "outputs": [],
   "source": [
    "def train_model(_model, _df, _feature, _label, _epochs, _batch_size):\n",
    "    _history = _model.fit(\n",
    "        x= _df[_feature],\n",
    "        y= _df[_label],\n",
    "        epochs=_epochs,\n",
    "        batch_size=_batch_size\n",
    "    )\n",
    "\n",
    "    _trained_weight = _model.get_weights()[0]\n",
    "    _trained_bias = _model.get_weights()[1]\n",
    "\n",
    "    _epochs = _history.epoch\n",
    "    _hist = pd.DataFrame(_history.history)\n",
    "    _rmse = _hist[\"root_mean_squared_error\"]\n",
    "    return _trained_weight, _trained_bias, _epochs, _rmse"
   ],
   "metadata": {
    "collapsed": false,
    "pycharm": {
     "name": "#%%\n"
    }
   }
  },
  {
   "cell_type": "code",
   "execution_count": 94,
   "outputs": [],
   "source": [
    "def plot_model(_trained_weight, _trained_bias, _feature, _label):\n",
    "    plt.xlabel(_feature)\n",
    "    plt.ylabel(_label)\n",
    "\n",
    "    _random_examples = training_df.sample(n=200)\n",
    "    plt.scatter(_random_examples[_feature], _random_examples[_label])\n",
    "\n",
    "    x0 = 0\n",
    "    y0 = _trained_bias\n",
    "    x1 = 10000\n",
    "    y1 = _trained_bias + _trained_weight * x1\n",
    "    plt.plot([x0, x1], [y0, y1])\n",
    "\n",
    "    plt.show()"
   ],
   "metadata": {
    "collapsed": false,
    "pycharm": {
     "name": "#%%\n"
    }
   }
  },
  {
   "cell_type": "code",
   "execution_count": 95,
   "outputs": [],
   "source": [
    "def plot_loss(_epochs, _rmse):\n",
    "    plt.figure()\n",
    "    plt.xlabel(\"Epoch\")\n",
    "    plt.ylabel(\"Root Mean Squared Error\")\n",
    "    plt.plot(_epochs, _rmse, label=\"Loss\")\n",
    "\n",
    "    plt.legend()\n",
    "    plt.ylim([_rmse.min()*0.97, _rmse.max()])\n",
    "    plt.show()"
   ],
   "metadata": {
    "collapsed": false,
    "pycharm": {
     "name": "#%%\n"
    }
   }
  },
  {
   "cell_type": "code",
   "execution_count": 96,
   "outputs": [
    {
     "name": "stdout",
     "output_type": "stream",
     "text": [
      "Epoch 1/24\n",
      "567/567 [==============================] - 0s 119us/step - loss: 28012.6816 - root_mean_squared_error: 167.3699\n",
      "Epoch 2/24\n",
      "567/567 [==============================] - 0s 23us/step - loss: 7328.1724 - root_mean_squared_error: 85.6047\n",
      "Epoch 3/24\n",
      "567/567 [==============================] - 0s 344us/step - loss: 7016.1055 - root_mean_squared_error: 83.7622\n",
      "Epoch 4/24\n",
      "567/567 [==============================] - 0s 3us/step - loss: 7015.6401 - root_mean_squared_error: 83.7594\n",
      "Epoch 5/24\n",
      "567/567 [==============================] - 0s 40us/step - loss: 7015.1338 - root_mean_squared_error: 83.7564\n",
      "Epoch 6/24\n",
      "567/567 [==============================] - 0s 146us/step - loss: 7016.9868 - root_mean_squared_error: 83.7675\n",
      "Epoch 7/24\n",
      "567/567 [==============================] - 0s 231us/step - loss: 7014.1738 - root_mean_squared_error: 83.7507\n",
      "Epoch 8/24\n",
      "567/567 [==============================] - 0s 29us/step - loss: 7017.4219 - root_mean_squared_error: 83.7701\n",
      "Epoch 9/24\n",
      "567/567 [==============================] - 0s 770us/step - loss: 7015.2275 - root_mean_squared_error: 83.7570\n",
      "Epoch 10/24\n",
      "567/567 [==============================] - 0s 527us/step - loss: 7015.8589 - root_mean_squared_error: 83.7607\n",
      "Epoch 11/24\n",
      "567/567 [==============================] - 0s 307us/step - loss: 7015.0215 - root_mean_squared_error: 83.7557\n",
      "Epoch 12/24\n",
      "567/567 [==============================] - 0s 17us/step - loss: 7013.5508 - root_mean_squared_error: 83.7469\n",
      "Epoch 13/24\n",
      "567/567 [==============================] - 0s 203us/step - loss: 7017.0049 - root_mean_squared_error: 83.7676\n",
      "Epoch 14/24\n",
      "567/567 [==============================] - 0s 739us/step - loss: 7014.9912 - root_mean_squared_error: 83.7555\n",
      "Epoch 15/24\n",
      "567/567 [==============================] - 0s 488us/step - loss: 7015.1460 - root_mean_squared_error: 83.7565\n",
      "Epoch 16/24\n",
      "567/567 [==============================] - 0s 439us/step - loss: 7016.0039 - root_mean_squared_error: 83.7616\n",
      "Epoch 17/24\n",
      "567/567 [==============================] - 0s 393us/step - loss: 7015.6167 - root_mean_squared_error: 83.7593\n",
      "Epoch 18/24\n",
      "567/567 [==============================] - 0s 514us/step - loss: 7013.7617 - root_mean_squared_error: 83.7482\n",
      "Epoch 19/24\n",
      "567/567 [==============================] - 0s 488us/step - loss: 7014.4551 - root_mean_squared_error: 83.7523\n",
      "Epoch 20/24\n",
      "567/567 [==============================] - 0s 379us/step - loss: 7016.3179 - root_mean_squared_error: 83.7635\n",
      "Epoch 21/24\n",
      "567/567 [==============================] - 0s 488us/step - loss: 7013.8599 - root_mean_squared_error: 83.7488\n",
      "Epoch 22/24\n",
      "567/567 [==============================] - 0s 525us/step - loss: 7016.4990 - root_mean_squared_error: 83.7645\n",
      "Epoch 23/24\n",
      "567/567 [==============================] - 0s 504us/step - loss: 7015.6836 - root_mean_squared_error: 83.7597\n",
      "Epoch 24/24\n",
      "567/567 [==============================] - 0s 487us/step - loss: 7016.1743 - root_mean_squared_error: 83.7626\n",
      "Trained weight: [[42.346054]]\n",
      "Trained bias: [43.398144]\n"
     ]
    }
   ],
   "source": [
    "learning_rate = 0.06\n",
    "epochs = 24\n",
    "batch_size = 30\n",
    "\n",
    "feature = \"median_income\"\n",
    "label = \"median_house_value\"\n",
    "\n",
    "model = build_model(learning_rate)\n",
    "trained_weight, trained_bias, epochs, rmse = train_model(model, training_df, feature, label, epochs, batch_size)\n",
    "\n",
    "print(\"Trained weight: %s\" % trained_weight)\n",
    "print(\"Trained bias: %s\" % trained_bias)"
   ],
   "metadata": {
    "collapsed": false,
    "pycharm": {
     "name": "#%%\n"
    }
   }
  },
  {
   "cell_type": "code",
   "execution_count": 97,
   "outputs": [
    {
     "data": {
      "text/plain": "<Figure size 432x288 with 1 Axes>",
      "image/png": "[encoded data removed]"
     },
     "metadata": {
      "needs_background": "light"
     },
     "output_type": "display_data"
    }
   ],
   "source": [
    "plot_model(trained_weight, trained_bias, feature, label)"
   ],
   "metadata": {
    "collapsed": false,
    "pycharm": {
     "name": "#%%\n"
    }
   }
  },
  {
   "cell_type": "code",
   "execution_count": 98,
   "outputs": [
    {
     "data": {
      "text/plain": "<Figure size 432x288 with 1 Axes>",
      "image/png": "[encoded data removed]"
     },
     "metadata": {
      "needs_background": "light"
     },
     "output_type": "display_data"
    }
   ],
   "source": [
    "plot_loss(epochs, rmse)"
   ],
   "metadata": {
    "collapsed": false,
    "pycharm": {
     "name": "#%%\n"
    }
   }
  },
  {
   "cell_type": "code",
   "execution_count": 99,
   "outputs": [],
   "source": [
    "def predict_house_values(_n, _feature, _label):\n",
    "    _batch = training_df[_feature][10000:10000+_n]\n",
    "    _predictions = model.predict(_batch)\n",
    "    print(\"feature   label          predicted\")\n",
    "    print(\"  value   value          value\")\n",
    "    print(\"          in thousand$   in thousand$\")\n",
    "    print(\"--------------------------------------\")\n",
    "    for i in range(_n):\n",
    "        print (\"%5.0f %6.0f %15.0f\" % (training_df[_feature][10000 + i],\n",
    "                                       training_df[_label][10000 + i],\n",
    "                                       _predictions[i][0] ))"
   ],
   "metadata": {
    "collapsed": false,
    "pycharm": {
     "name": "#%%\n"
    }
   }
  },
  {
   "cell_type": "code",
   "execution_count": 100,
   "outputs": [
    {
     "name": "stdout",
     "output_type": "stream",
     "text": [
      "feature   label          predicted\n",
      "  value   value          value\n",
      "          in thousand$   in thousand$\n",
      "--------------------------------------\n",
      "    2     53             135\n",
      "    4     92             212\n",
      "    3     69             154\n",
      "    2     62             132\n",
      "    3     80             154\n",
      "    2    295             148\n",
      "   10    500             458\n",
      "    5    342             261\n",
      "    2    118             147\n",
      "    4    128             222\n"
     ]
    }
   ],
   "source": [
    "predict_house_values(10, feature, label)"
   ],
   "metadata": {
    "collapsed": false,
    "pycharm": {
     "name": "#%%\n"
    }
   }
  }
 ],
 "metadata": {
  "kernelspec": {
   "display_name": "Python 3",
   "language": "python",
   "name": "python3"
  },
  "language_info": {
   "codemirror_mode": {
    "name": "ipython",
    "version": 2
   },
   "file_extension": ".py",
   "mimetype": "text/x-python",
   "name": "python",
   "nbconvert_exporter": "python",
   "pygments_lexer": "ipython2",
   "version": "2.7.6"
  }
 },
 "nbformat": 4,
 "nbformat_minor": 0
}