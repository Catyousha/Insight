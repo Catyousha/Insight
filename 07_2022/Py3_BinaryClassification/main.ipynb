{
 "cells": [
  {
   "cell_type": "markdown",
   "source": [
    "## Imports"
   ],
   "metadata": {
    "collapsed": false,
    "pycharm": {
     "name": "#%% md\n"
    }
   }
  },
  {
   "cell_type": "code",
   "execution_count": 54,
   "metadata": {
    "collapsed": true,
    "pycharm": {
     "name": "#%%\n"
    }
   },
   "outputs": [],
   "source": [
    "import numpy as np\n",
    "import pandas as pd\n",
    "import tensorflow as tf\n",
    "import os\n",
    "from tensorflow.keras import layers\n",
    "from matplotlib import pyplot as plt\n",
    "\n",
    "os.environ['KMP_DUPLICATE_LIB_OK']='True'\n",
    "np.warnings.filterwarnings('ignore', category=np.VisibleDeprecationWarning)"
   ]
  },
  {
   "cell_type": "code",
   "execution_count": 55,
   "outputs": [],
   "source": [
    "train_df = pd.read_csv(\"https://download.mlcc.google.com/mledu-datasets/california_housing_train.csv\")\n",
    "test_df = pd.read_csv(\"https://download.mlcc.google.com/mledu-datasets/california_housing_test.csv\")\n",
    "train_df = train_df.reindex(np.random.permutation(train_df.index)) # shuffle the training set"
   ],
   "metadata": {
    "collapsed": false,
    "pycharm": {
     "name": "#%%\n"
    }
   }
  },
  {
   "cell_type": "markdown",
   "source": [
    "## Normalization"
   ],
   "metadata": {
    "collapsed": false,
    "pycharm": {
     "name": "#%% md\n"
    }
   }
  },
  {
   "cell_type": "code",
   "execution_count": 56,
   "outputs": [
    {
     "data": {
      "text/plain": "       longitude  latitude  housing_median_age  total_rooms  total_bedrooms  \\\n6202    0.659351 -0.765075           -0.046823    -1.069597       -1.068592   \n12930  -1.131024  0.456069            0.112072     0.047862       -0.088757   \n16530  -1.544955  1.335667           -0.602955    -0.264990       -0.347357   \n13473  -1.190870  0.755507            0.270967    -0.578759       -0.712719   \n3138    0.863823 -0.844613           -0.205717     0.282271       -0.197891   \n\n       population  households  median_income  median_house_value  \n6202    -0.811580   -1.077242      -0.771885           -0.956176  \n12930    0.053514    0.087845       0.242968           -0.192276  \n16530   -0.444808   -0.276245      -0.323128           -0.268149  \n13473   -0.631243   -0.650737       1.159298            1.707990  \n3138    -0.065839   -0.109804       0.994741            0.519892  ",
      "text/html": "<div>\n<style scoped>\n    .dataframe tbody tr th:only-of-type {\n        vertical-align: middle;\n    }\n\n    .dataframe tbody tr th {\n        vertical-align: top;\n    }\n\n    .dataframe thead th {\n        text-align: right;\n    }\n</style>\n<table border=\"1\" class=\"dataframe\">\n  <thead>\n    <tr style=\"text-align: right;\">\n      <th></th>\n      <th>longitude</th>\n      <th>latitude</th>\n      <th>housing_median_age</th>\n      <th>total_rooms</th>\n      <th>total_bedrooms</th>\n      <th>population</th>\n      <th>households</th>\n      <th>median_income</th>\n      <th>median_house_value</th>\n    </tr>\n  </thead>\n  <tbody>\n    <tr>\n      <th>6202</th>\n      <td>0.659351</td>\n      <td>-0.765075</td>\n      <td>-0.046823</td>\n      <td>-1.069597</td>\n      <td>-1.068592</td>\n      <td>-0.811580</td>\n      <td>-1.077242</td>\n      <td>-0.771885</td>\n      <td>-0.956176</td>\n    </tr>\n    <tr>\n      <th>12930</th>\n      <td>-1.131024</td>\n      <td>0.456069</td>\n      <td>0.112072</td>\n      <td>0.047862</td>\n      <td>-0.088757</td>\n      <td>0.053514</td>\n      <td>0.087845</td>\n      <td>0.242968</td>\n      <td>-0.192276</td>\n    </tr>\n    <tr>\n      <th>16530</th>\n      <td>-1.544955</td>\n      <td>1.335667</td>\n      <td>-0.602955</td>\n      <td>-0.264990</td>\n      <td>-0.347357</td>\n      <td>-0.444808</td>\n      <td>-0.276245</td>\n      <td>-0.323128</td>\n      <td>-0.268149</td>\n    </tr>\n    <tr>\n      <th>13473</th>\n      <td>-1.190870</td>\n      <td>0.755507</td>\n      <td>0.270967</td>\n      <td>-0.578759</td>\n      <td>-0.712719</td>\n      <td>-0.631243</td>\n      <td>-0.650737</td>\n      <td>1.159298</td>\n      <td>1.707990</td>\n    </tr>\n    <tr>\n      <th>3138</th>\n      <td>0.863823</td>\n      <td>-0.844613</td>\n      <td>-0.205717</td>\n      <td>0.282271</td>\n      <td>-0.197891</td>\n      <td>-0.065839</td>\n      <td>-0.109804</td>\n      <td>0.994741</td>\n      <td>0.519892</td>\n    </tr>\n  </tbody>\n</table>\n</div>"
     },
     "execution_count": 56,
     "metadata": {},
     "output_type": "execute_result"
    }
   ],
   "source": [
    "train_df_mean = train_df.mean()\n",
    "train_df_std = train_df.std()\n",
    "train_df_norm = (train_df - train_df_mean)/train_df_std\n",
    "\n",
    "train_df_norm.head()"
   ],
   "metadata": {
    "collapsed": false,
    "pycharm": {
     "name": "#%%\n"
    }
   }
  },
  {
   "cell_type": "code",
   "execution_count": 57,
   "outputs": [
    {
     "data": {
      "text/plain": "   longitude  latitude  housing_median_age  total_rooms  total_bedrooms  \\\n0  -1.233523  0.814497           -0.146975     0.596319        0.315284   \n1   0.646236 -0.645823            1.127377    -0.505466       -0.529167   \n2   0.891858 -0.871210           -0.146975     0.459002       -0.055216   \n3   0.616160 -0.852428           -0.067328    -1.174887       -1.238892   \n4  -0.040503  0.326159           -0.784152    -0.630257       -0.687953   \n\n   population  households  median_income  median_house_value  \n0    0.130224    0.317681       1.510494            1.227494  \n1   -0.576200   -0.582646      -0.112305           -0.259427  \n2    0.078795    0.013924       1.070971            0.571551  \n3   -1.313675   -1.310570       1.255656            1.097543  \n4   -0.536415   -0.692108      -0.469003           -1.097477  ",
      "text/html": "<div>\n<style scoped>\n    .dataframe tbody tr th:only-of-type {\n        vertical-align: middle;\n    }\n\n    .dataframe tbody tr th {\n        vertical-align: top;\n    }\n\n    .dataframe thead th {\n        text-align: right;\n    }\n</style>\n<table border=\"1\" class=\"dataframe\">\n  <thead>\n    <tr style=\"text-align: right;\">\n      <th></th>\n      <th>longitude</th>\n      <th>latitude</th>\n      <th>housing_median_age</th>\n      <th>total_rooms</th>\n      <th>total_bedrooms</th>\n      <th>population</th>\n      <th>households</th>\n      <th>median_income</th>\n      <th>median_house_value</th>\n    </tr>\n  </thead>\n  <tbody>\n    <tr>\n      <th>0</th>\n      <td>-1.233523</td>\n      <td>0.814497</td>\n      <td>-0.146975</td>\n      <td>0.596319</td>\n      <td>0.315284</td>\n      <td>0.130224</td>\n      <td>0.317681</td>\n      <td>1.510494</td>\n      <td>1.227494</td>\n    </tr>\n    <tr>\n      <th>1</th>\n      <td>0.646236</td>\n      <td>-0.645823</td>\n      <td>1.127377</td>\n      <td>-0.505466</td>\n      <td>-0.529167</td>\n      <td>-0.576200</td>\n      <td>-0.582646</td>\n      <td>-0.112305</td>\n      <td>-0.259427</td>\n    </tr>\n    <tr>\n      <th>2</th>\n      <td>0.891858</td>\n      <td>-0.871210</td>\n      <td>-0.146975</td>\n      <td>0.459002</td>\n      <td>-0.055216</td>\n      <td>0.078795</td>\n      <td>0.013924</td>\n      <td>1.070971</td>\n      <td>0.571551</td>\n    </tr>\n    <tr>\n      <th>3</th>\n      <td>0.616160</td>\n      <td>-0.852428</td>\n      <td>-0.067328</td>\n      <td>-1.174887</td>\n      <td>-1.238892</td>\n      <td>-1.313675</td>\n      <td>-1.310570</td>\n      <td>1.255656</td>\n      <td>1.097543</td>\n    </tr>\n    <tr>\n      <th>4</th>\n      <td>-0.040503</td>\n      <td>0.326159</td>\n      <td>-0.784152</td>\n      <td>-0.630257</td>\n      <td>-0.687953</td>\n      <td>-0.536415</td>\n      <td>-0.692108</td>\n      <td>-0.469003</td>\n      <td>-1.097477</td>\n    </tr>\n  </tbody>\n</table>\n</div>"
     },
     "execution_count": 57,
     "metadata": {},
     "output_type": "execute_result"
    }
   ],
   "source": [
    "test_df_mean = test_df.mean()\n",
    "test_df_std = test_df.std()\n",
    "test_df_norm = (test_df - test_df_mean)/test_df_std\n",
    "\n",
    "test_df_norm.head()"
   ],
   "metadata": {
    "collapsed": false,
    "pycharm": {
     "name": "#%%\n"
    }
   }
  },
  {
   "cell_type": "code",
   "execution_count": 58,
   "outputs": [
    {
     "data": {
      "text/plain": "count    1.700000e+04\nmean     3.220300e-17\nstd      1.000000e+00\nmin     -1.658007e+00\n25%     -7.578726e-01\n50%     -2.319369e-01\n75%      4.974756e-01\nmax      2.523630e+00\nName: median_house_value, dtype: float64"
     },
     "execution_count": 58,
     "metadata": {},
     "output_type": "execute_result"
    }
   ],
   "source": [
    "train_df_norm[\"median_house_value\"].describe()"
   ],
   "metadata": {
    "collapsed": false,
    "pycharm": {
     "name": "#%%\n"
    }
   }
  },
  {
   "cell_type": "markdown",
   "source": [
    "## Label Binarization"
   ],
   "metadata": {
    "collapsed": false,
    "pycharm": {
     "name": "#%% md\n"
    }
   }
  },
  {
   "cell_type": "code",
   "execution_count": 59,
   "outputs": [
    {
     "data": {
      "text/plain": "False    14223\nTrue      2777\nName: median_house_value_is_high, dtype: int64"
     },
     "execution_count": 59,
     "metadata": {},
     "output_type": "execute_result"
    }
   ],
   "source": [
    "threshold_in_Z = 1\n",
    "train_df_norm[\"median_house_value_is_high\"] = train_df_norm[\"median_house_value\"] > threshold_in_Z\n",
    "test_df_norm[\"median_house_value_is_high\"] = test_df_norm[\"median_house_value\"] > threshold_in_Z\n",
    "train_df_norm[\"median_house_value_is_high\"].value_counts()"
   ],
   "metadata": {
    "collapsed": false,
    "pycharm": {
     "name": "#%%\n"
    }
   }
  },
  {
   "cell_type": "markdown",
   "source": [
    "## Feature Engineering"
   ],
   "metadata": {
    "collapsed": false,
    "pycharm": {
     "name": "#%% md\n"
    }
   }
  },
  {
   "cell_type": "code",
   "execution_count": 60,
   "outputs": [
    {
     "data": {
      "text/plain": "<tf.Tensor: shape=(17000, 2), dtype=float32, numpy=\narray([[-0.7718854 , -1.0695968 ],\n       [ 0.24296848,  0.04786152],\n       [-0.32312763, -0.26499012],\n       ...,\n       [-0.33387098, -0.14847352],\n       [-0.705591  , -0.12049118],\n       [-0.8792141 , -0.58609885]], dtype=float32)>"
     },
     "execution_count": 60,
     "metadata": {},
     "output_type": "execute_result"
    }
   ],
   "source": [
    "feature_cols = []\n",
    "median_income = tf.feature_column.numeric_column(\"median_income\")\n",
    "feature_cols.append(median_income)\n",
    "\n",
    "tr = tf.feature_column.numeric_column(\"total_rooms\")\n",
    "feature_cols.append(tr)\n",
    "\n",
    "feature_layer = tf.keras.layers.DenseFeatures(feature_cols)\n",
    "\n",
    "# Print the first 3 and last 3 rows of the feature_layer's output when applied\n",
    "# to train_df_norm:\n",
    "feature_layer(dict(train_df_norm))"
   ],
   "metadata": {
    "collapsed": false,
    "pycharm": {
     "name": "#%%\n"
    }
   }
  },
  {
   "cell_type": "markdown",
   "source": [
    "## Modeling"
   ],
   "metadata": {
    "collapsed": false,
    "pycharm": {
     "name": "#%% md\n"
    }
   }
  },
  {
   "cell_type": "code",
   "execution_count": 61,
   "outputs": [],
   "source": [
    "def create_model(_learning_rate, _feature_layer, _metrics):\n",
    "    _model = tf.keras.models.Sequential()\n",
    "    _model.add(_feature_layer)\n",
    "    _model.add(layers.Dense(units=1, input_shape=(1,), activation=tf.sigmoid))\n",
    "    _model.compile(\n",
    "        optimizer = tf.keras.optimizers.RMSprop(learning_rate=_learning_rate),\n",
    "        loss = tf.keras.losses.BinaryCrossentropy(),\n",
    "        metrics = _metrics\n",
    "    )\n",
    "    return _model\n",
    "\n",
    "def train_model(_model, _dataset, _epochs, _label_name, _batch_size, _shuffle):\n",
    "    _features = {name:np.array(value) for name, value in _dataset.items() if name != _label_name}\n",
    "    _labels = np.array(_dataset[_label_name])\n",
    "    _history = _model.fit(\n",
    "        x = _features,\n",
    "        y = _labels,\n",
    "        epochs = _epochs,\n",
    "        batch_size = _batch_size,\n",
    "        shuffle = _shuffle\n",
    "    )\n",
    "    _trained_epochs = _history.epoch\n",
    "    _hist = pd.DataFrame(_history.history)\n",
    "    return _trained_epochs, _hist"
   ],
   "metadata": {
    "collapsed": false,
    "pycharm": {
     "name": "#%%\n"
    }
   }
  },
  {
   "cell_type": "markdown",
   "source": [
    "## Plotting"
   ],
   "metadata": {
    "collapsed": false,
    "pycharm": {
     "name": "#%% md\n"
    }
   }
  },
  {
   "cell_type": "code",
   "execution_count": 62,
   "outputs": [],
   "source": [
    "def plot_curve(_epochs, _hist, _metrics):\n",
    "    plt.figure()\n",
    "    plt.xlabel(\"Epochs\")\n",
    "    plt.ylabel(\"Value\")\n",
    "\n",
    "    for m in _metrics:\n",
    "        x = _hist[m]\n",
    "        plt.plot(_epochs[1:], x[1:], label=m)\n",
    "    plt.legend()"
   ],
   "metadata": {
    "collapsed": false,
    "pycharm": {
     "name": "#%%\n"
    }
   }
  },
  {
   "cell_type": "markdown",
   "source": [
    "## Training"
   ],
   "metadata": {
    "collapsed": false,
    "pycharm": {
     "name": "#%% md\n"
    }
   }
  },
  {
   "cell_type": "code",
   "execution_count": 63,
   "outputs": [
    {
     "name": "stdout",
     "output_type": "stream",
     "text": [
      "Epoch 1/20\n",
      "WARNING:tensorflow:Layers in a Sequential model should only have a single input tensor, but we receive a <class 'dict'> input: {'longitude': <tf.Tensor 'ExpandDims_3:0' shape=(100, 1) dtype=float32>, 'latitude': <tf.Tensor 'ExpandDims_2:0' shape=(100, 1) dtype=float32>, 'housing_median_age': <tf.Tensor 'ExpandDims_1:0' shape=(100, 1) dtype=float32>, 'total_rooms': <tf.Tensor 'ExpandDims_8:0' shape=(100, 1) dtype=float32>, 'total_bedrooms': <tf.Tensor 'ExpandDims_7:0' shape=(100, 1) dtype=float32>, 'population': <tf.Tensor 'ExpandDims_6:0' shape=(100, 1) dtype=float32>, 'households': <tf.Tensor 'ExpandDims:0' shape=(100, 1) dtype=float32>, 'median_income': <tf.Tensor 'ExpandDims_5:0' shape=(100, 1) dtype=float32>, 'median_house_value': <tf.Tensor 'ExpandDims_4:0' shape=(100, 1) dtype=float32>}\n",
      "Consider rewriting this model with the Functional API.\n",
      "WARNING:tensorflow:Layers in a Sequential model should only have a single input tensor, but we receive a <class 'dict'> input: {'longitude': <tf.Tensor 'ExpandDims_3:0' shape=(100, 1) dtype=float32>, 'latitude': <tf.Tensor 'ExpandDims_2:0' shape=(100, 1) dtype=float32>, 'housing_median_age': <tf.Tensor 'ExpandDims_1:0' shape=(100, 1) dtype=float32>, 'total_rooms': <tf.Tensor 'ExpandDims_8:0' shape=(100, 1) dtype=float32>, 'total_bedrooms': <tf.Tensor 'ExpandDims_7:0' shape=(100, 1) dtype=float32>, 'population': <tf.Tensor 'ExpandDims_6:0' shape=(100, 1) dtype=float32>, 'households': <tf.Tensor 'ExpandDims:0' shape=(100, 1) dtype=float32>, 'median_income': <tf.Tensor 'ExpandDims_5:0' shape=(100, 1) dtype=float32>, 'median_house_value': <tf.Tensor 'ExpandDims_4:0' shape=(100, 1) dtype=float32>}\n",
      "Consider rewriting this model with the Functional API.\n",
      "170/170 [==============================] - 1s 869us/step - loss: 0.7681 - accuracy: 0.5157 - precision: 0.0522 - recall: 0.1145 - auc: 0.2033\n",
      "Epoch 2/20\n",
      "170/170 [==============================] - 0s 816us/step - loss: 0.6742 - accuracy: 0.7527 - precision: 0.0604 - recall: 0.0353 - auc: 0.2294\n",
      "Epoch 3/20\n",
      "170/170 [==============================] - 0s 981us/step - loss: 0.5940 - accuracy: 0.8169 - precision: 0.1149 - recall: 0.0180 - auc: 0.3308\n",
      "Epoch 4/20\n",
      "170/170 [==============================] - 0s 921us/step - loss: 0.5263 - accuracy: 0.8315 - precision: 0.2708 - recall: 0.0187 - auc: 0.6966\n",
      "Epoch 5/20\n",
      "170/170 [==============================] - 0s 878us/step - loss: 0.4705 - accuracy: 0.8448 - precision: 0.7518 - recall: 0.0742 - auc: 0.8112\n",
      "Epoch 6/20\n",
      "170/170 [==============================] - 0s 1ms/step - loss: 0.4268 - accuracy: 0.8586 - precision: 0.9349 - recall: 0.1448 - auc: 0.8281\n",
      "Epoch 7/20\n",
      "170/170 [==============================] - 0s 869us/step - loss: 0.3926 - accuracy: 0.8695 - precision: 0.9471 - recall: 0.2128 - auc: 0.8348\n",
      "Epoch 8/20\n",
      "170/170 [==============================] - 0s 796us/step - loss: 0.3669 - accuracy: 0.8765 - precision: 0.9247 - recall: 0.2654 - auc: 0.8378\n",
      "Epoch 9/20\n",
      "170/170 [==============================] - 0s 887us/step - loss: 0.3486 - accuracy: 0.8790 - precision: 0.8930 - recall: 0.2946 - auc: 0.8382\n",
      "Epoch 10/20\n",
      "170/170 [==============================] - 0s 803us/step - loss: 0.3353 - accuracy: 0.8805 - precision: 0.8753 - recall: 0.3133 - auc: 0.8390\n",
      "Epoch 11/20\n",
      "170/170 [==============================] - 0s 912us/step - loss: 0.3266 - accuracy: 0.8817 - precision: 0.8683 - recall: 0.3252 - auc: 0.8391\n",
      "Epoch 12/20\n",
      "170/170 [==============================] - 0s 865us/step - loss: 0.3211 - accuracy: 0.8831 - precision: 0.8538 - recall: 0.3428 - auc: 0.8394\n",
      "Epoch 13/20\n",
      "170/170 [==============================] - 0s 898us/step - loss: 0.3177 - accuracy: 0.8836 - precision: 0.8514 - recall: 0.3486 - auc: 0.8394\n",
      "Epoch 14/20\n",
      "170/170 [==============================] - 0s 939us/step - loss: 0.3156 - accuracy: 0.8835 - precision: 0.8339 - recall: 0.3579 - auc: 0.8392\n",
      "Epoch 15/20\n",
      "170/170 [==============================] - 0s 980us/step - loss: 0.3143 - accuracy: 0.8836 - precision: 0.8267 - recall: 0.3641 - auc: 0.8396\n",
      "Epoch 16/20\n",
      "170/170 [==============================] - 0s 837us/step - loss: 0.3136 - accuracy: 0.8840 - precision: 0.8207 - recall: 0.3709 - auc: 0.8399\n",
      "Epoch 17/20\n",
      "170/170 [==============================] - 0s 835us/step - loss: 0.3132 - accuracy: 0.8844 - precision: 0.8161 - recall: 0.3770 - auc: 0.8395\n",
      "Epoch 18/20\n",
      "170/170 [==============================] - 0s 798us/step - loss: 0.3129 - accuracy: 0.8845 - precision: 0.8155 - recall: 0.3788 - auc: 0.8395\n",
      "Epoch 19/20\n",
      "170/170 [==============================] - 0s 791us/step - loss: 0.3128 - accuracy: 0.8847 - precision: 0.8179 - recall: 0.3785 - auc: 0.8393\n",
      "Epoch 20/20\n",
      "170/170 [==============================] - 0s 768us/step - loss: 0.3127 - accuracy: 0.8846 - precision: 0.8137 - recall: 0.3806 - auc: 0.8395\n"
     ]
    },
    {
     "data": {
      "text/plain": "<Figure size 432x288 with 1 Axes>",
      "image/png": "[encoded data removed]"
     },
     "metadata": {
      "needs_background": "light"
     },
     "output_type": "display_data"
    }
   ],
   "source": [
    "learning_rate = 0.001\n",
    "epochs = 20\n",
    "batch_size = 100\n",
    "label_name = \"median_house_value_is_high\"\n",
    "classification_threshold = 0.52\n",
    "\n",
    "metrics = [\n",
    "    tf.keras.metrics.BinaryAccuracy(\n",
    "        name=\"accuracy\",\n",
    "        threshold=classification_threshold,\n",
    "    ),\n",
    "    tf.keras.metrics.Precision(\n",
    "        name=\"precision\",\n",
    "        thresholds=classification_threshold,\n",
    "    ),\n",
    "    tf.keras.metrics.Recall(\n",
    "        name=\"recall\",\n",
    "        thresholds=classification_threshold,\n",
    "    ),\n",
    "    tf.keras.metrics.AUC(\n",
    "        num_thresholds=100, # binning of ROC curve\n",
    "        name='auc',\n",
    "    ),\n",
    "]\n",
    "\n",
    "model = create_model(\n",
    "    _learning_rate=learning_rate,\n",
    "    _feature_layer=feature_layer,\n",
    "    _metrics=metrics,\n",
    ")\n",
    "trained_epochs, hist = train_model(\n",
    "    _model=model,\n",
    "    _dataset=train_df_norm,\n",
    "    _epochs=epochs,\n",
    "    _label_name=label_name,\n",
    "    _batch_size=batch_size,\n",
    "    _shuffle=True,\n",
    ")\n",
    "\n",
    "metrics_plot = ['accuracy', 'precision', 'recall', 'auc']\n",
    "plot_curve(\n",
    "    _epochs=trained_epochs,\n",
    "    _hist=hist,\n",
    "    _metrics=metrics_plot,\n",
    ")"
   ],
   "metadata": {
    "collapsed": false,
    "pycharm": {
     "name": "#%%\n"
    }
   }
  },
  {
   "cell_type": "code",
   "execution_count": 64,
   "outputs": [
    {
     "name": "stdout",
     "output_type": "stream",
     "text": [
      "WARNING:tensorflow:Layers in a Sequential model should only have a single input tensor, but we receive a <class 'dict'> input: {'longitude': <tf.Tensor 'ExpandDims_3:0' shape=(100, 1) dtype=float32>, 'latitude': <tf.Tensor 'ExpandDims_2:0' shape=(100, 1) dtype=float32>, 'housing_median_age': <tf.Tensor 'ExpandDims_1:0' shape=(100, 1) dtype=float32>, 'total_rooms': <tf.Tensor 'ExpandDims_8:0' shape=(100, 1) dtype=float32>, 'total_bedrooms': <tf.Tensor 'ExpandDims_7:0' shape=(100, 1) dtype=float32>, 'population': <tf.Tensor 'ExpandDims_6:0' shape=(100, 1) dtype=float32>, 'households': <tf.Tensor 'ExpandDims:0' shape=(100, 1) dtype=float32>, 'median_income': <tf.Tensor 'ExpandDims_5:0' shape=(100, 1) dtype=float32>, 'median_house_value': <tf.Tensor 'ExpandDims_4:0' shape=(100, 1) dtype=float32>}\n",
      "Consider rewriting this model with the Functional API.\n",
      "30/30 [==============================] - 0s 831us/step - loss: 0.3130 - accuracy: 0.8853 - precision: 0.7982 - recall: 0.3671 - auc: 0.8320\n"
     ]
    },
    {
     "data": {
      "text/plain": "[0.31299540400505066,\n 0.8853333592414856,\n 0.7981651425361633,\n 0.3670886158943176,\n 0.8320053815841675]"
     },
     "execution_count": 64,
     "metadata": {},
     "output_type": "execute_result"
    }
   ],
   "source": [
    "features = {name:np.array(value) for name, value in test_df_norm.items() if name != label_name}\n",
    "labels = np.array(test_df_norm[label_name])\n",
    "model.evaluate(features, labels, batch_size=batch_size)"
   ],
   "metadata": {
    "collapsed": false,
    "pycharm": {
     "name": "#%%\n"
    }
   }
  }
 ],
 "metadata": {
  "kernelspec": {
   "display_name": "Python 3",
   "language": "python",
   "name": "python3"
  },
  "language_info": {
   "codemirror_mode": {
    "name": "ipython",
    "version": 2
   },
   "file_extension": ".py",
   "mimetype": "text/x-python",
   "name": "python",
   "nbconvert_exporter": "python",
   "pygments_lexer": "ipython2",
   "version": "2.7.6"
  }
 },
 "nbformat": 4,
 "nbformat_minor": 0
}