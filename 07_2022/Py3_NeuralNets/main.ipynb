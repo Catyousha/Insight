{
 "cells": [
  {
   "cell_type": "code",
   "execution_count": 23,
   "metadata": {
    "collapsed": true,
    "pycharm": {
     "name": "#%%\n"
    }
   },
   "outputs": [],
   "source": [
    "import os\n",
    "import numpy as np\n",
    "import pandas as pd\n",
    "import tensorflow as tf\n",
    "from tensorflow.keras import layers\n",
    "from matplotlib import pyplot as plt\n",
    "import seaborn as sns\n",
    "\n",
    "os.environ['KMP_DUPLICATE_LIB_OK']='True'\n",
    "np.warnings.filterwarnings('ignore', category=np.VisibleDeprecationWarning)"
   ]
  },
  {
   "cell_type": "code",
   "execution_count": 24,
   "outputs": [
    {
     "data": {
      "text/plain": "       longitude  latitude  housing_median_age  total_rooms  total_bedrooms  \\\n4363     -118.02     33.96                36.0       2002.0           361.0   \n6809     -118.30     34.07                36.0       2657.0           738.0   \n2115     -117.35     33.98                31.0       4163.0          1242.0   \n8977     -118.92     34.40                23.0       1290.0           283.0   \n11996    -121.39     38.58                41.0       2577.0           365.0   \n\n       population  households  median_income  median_house_value  \n4363        913.0       311.0         4.5446            244700.0  \n6809       2274.0       723.0         3.4250            281700.0  \n2115       3928.0      1076.0         1.6943             85900.0  \n8977       1060.0       279.0         3.3152            198000.0  \n11996       913.0       339.0         6.3406            448300.0  ",
      "text/html": "<div>\n<style scoped>\n    .dataframe tbody tr th:only-of-type {\n        vertical-align: middle;\n    }\n\n    .dataframe tbody tr th {\n        vertical-align: top;\n    }\n\n    .dataframe thead th {\n        text-align: right;\n    }\n</style>\n<table border=\"1\" class=\"dataframe\">\n  <thead>\n    <tr style=\"text-align: right;\">\n      <th></th>\n      <th>longitude</th>\n      <th>latitude</th>\n      <th>housing_median_age</th>\n      <th>total_rooms</th>\n      <th>total_bedrooms</th>\n      <th>population</th>\n      <th>households</th>\n      <th>median_income</th>\n      <th>median_house_value</th>\n    </tr>\n  </thead>\n  <tbody>\n    <tr>\n      <th>4363</th>\n      <td>-118.02</td>\n      <td>33.96</td>\n      <td>36.0</td>\n      <td>2002.0</td>\n      <td>361.0</td>\n      <td>913.0</td>\n      <td>311.0</td>\n      <td>4.5446</td>\n      <td>244700.0</td>\n    </tr>\n    <tr>\n      <th>6809</th>\n      <td>-118.30</td>\n      <td>34.07</td>\n      <td>36.0</td>\n      <td>2657.0</td>\n      <td>738.0</td>\n      <td>2274.0</td>\n      <td>723.0</td>\n      <td>3.4250</td>\n      <td>281700.0</td>\n    </tr>\n    <tr>\n      <th>2115</th>\n      <td>-117.35</td>\n      <td>33.98</td>\n      <td>31.0</td>\n      <td>4163.0</td>\n      <td>1242.0</td>\n      <td>3928.0</td>\n      <td>1076.0</td>\n      <td>1.6943</td>\n      <td>85900.0</td>\n    </tr>\n    <tr>\n      <th>8977</th>\n      <td>-118.92</td>\n      <td>34.40</td>\n      <td>23.0</td>\n      <td>1290.0</td>\n      <td>283.0</td>\n      <td>1060.0</td>\n      <td>279.0</td>\n      <td>3.3152</td>\n      <td>198000.0</td>\n    </tr>\n    <tr>\n      <th>11996</th>\n      <td>-121.39</td>\n      <td>38.58</td>\n      <td>41.0</td>\n      <td>2577.0</td>\n      <td>365.0</td>\n      <td>913.0</td>\n      <td>339.0</td>\n      <td>6.3406</td>\n      <td>448300.0</td>\n    </tr>\n  </tbody>\n</table>\n</div>"
     },
     "execution_count": 24,
     "metadata": {},
     "output_type": "execute_result"
    }
   ],
   "source": [
    "train_df = pd.read_csv(\"https://download.mlcc.google.com/mledu-datasets/california_housing_train.csv\")\n",
    "test_df = pd.read_csv(\"https://download.mlcc.google.com/mledu-datasets/california_housing_test.csv\")\n",
    "train_df = train_df.reindex(np.random.permutation(train_df.index)) # shuffle the examples\n",
    "\n",
    "train_df.head()"
   ],
   "metadata": {
    "collapsed": false,
    "pycharm": {
     "name": "#%%\n"
    }
   }
  },
  {
   "cell_type": "code",
   "execution_count": 25,
   "outputs": [],
   "source": [
    "train_df_mean = train_df.mean()\n",
    "train_df_std = train_df.std()\n",
    "train_df_norm = (train_df - train_df_mean)/train_df_std\n",
    "\n",
    "test_df_mean = test_df.mean()\n",
    "test_df_std = test_df.std()\n",
    "test_df_norm = (test_df - test_df_mean)/test_df_std"
   ],
   "metadata": {
    "collapsed": false,
    "pycharm": {
     "name": "#%%\n"
    }
   }
  },
  {
   "cell_type": "code",
   "execution_count": 26,
   "outputs": [
    {
     "data": {
      "text/plain": "<keras.feature_column.dense_features_v2.DenseFeatures at 0x1c728a07040>"
     },
     "execution_count": 26,
     "metadata": {},
     "output_type": "execute_result"
    }
   ],
   "source": [
    "feature_cols = []\n",
    "\n",
    "resolution_in_Zs = 0.3 # 3/10 dari std\n",
    "\n",
    "lat_as_num_col = tf.feature_column.numeric_column(\"latitude\")\n",
    "lat_boundaries = list(\n",
    "    np.arange(\n",
    "        int(min(train_df_norm[\"latitude\"])),\n",
    "        int(max(train_df_norm[\"latitude\"])),\n",
    "        resolution_in_Zs,\n",
    "    ),\n",
    ")\n",
    "latitude = tf.feature_column.bucketized_column(\n",
    "    lat_as_num_col,\n",
    "    boundaries=lat_boundaries,\n",
    ")\n",
    "\n",
    "long_as_num_col = tf.feature_column.numeric_column(\"longitude\")\n",
    "long_boundaries = list(\n",
    "    np.arange(\n",
    "        int(min(train_df_norm[\"longitude\"])),\n",
    "        int(max(train_df_norm[\"longitude\"])),\n",
    "        resolution_in_Zs,\n",
    "    ),\n",
    ")\n",
    "longitude = tf.feature_column.bucketized_column(\n",
    "    long_as_num_col,\n",
    "    boundaries=long_boundaries\n",
    ")\n",
    "\n",
    "lat_x_long = tf.feature_column.crossed_column(\n",
    "    [latitude, longitude],\n",
    "    hash_bucket_size=int(1e6),\n",
    ")\n",
    "crossed_feature = tf.feature_column.indicator_column(\n",
    "    lat_x_long,\n",
    ")\n",
    "feature_cols.append(crossed_feature)\n",
    "\n",
    "median_income = tf.feature_column.numeric_column(\"median_income\")\n",
    "feature_cols.append(median_income)\n",
    "\n",
    "population = tf.feature_column.numeric_column(\"population\")\n",
    "feature_cols.append(population)\n",
    "\n",
    "feature_layer = tf.keras.layers.DenseFeatures(feature_cols)\n",
    "feature_layer"
   ],
   "metadata": {
    "collapsed": false,
    "pycharm": {
     "name": "#%%\n"
    }
   }
  },
  {
   "cell_type": "code",
   "execution_count": 27,
   "outputs": [],
   "source": [
    "def plot_curve(_epochs, _mse):\n",
    "    plt.figure()\n",
    "    plt.xlabel(\"Epoch\")\n",
    "    plt.ylabel(\"MSE\")\n",
    "\n",
    "    plt.plot(_epochs, _mse, label=\"Loss\")\n",
    "    plt.legend()\n",
    "    plt.ylim([_mse.min() * 0.95, _mse.max() * 1.05])\n",
    "    plt.show()"
   ],
   "metadata": {
    "collapsed": false,
    "pycharm": {
     "name": "#%%\n"
    }
   }
  },
  {
   "cell_type": "code",
   "execution_count": 28,
   "outputs": [],
   "source": [
    "def create_model(_learning_rate, _feature_layer):\n",
    "    _model = tf.keras.models.Sequential()\n",
    "    _model.add(_feature_layer)\n",
    "    _model.add(tf.keras.layers.Dense(\n",
    "        units=20,\n",
    "        activation=\"relu\",\n",
    "        kernel_regularizer=tf.keras.regularizers.l2(0.04),\n",
    "        name=\"Hidden1\",\n",
    "    ))\n",
    "    _model.add(tf.keras.layers.Dense(\n",
    "        units=12,\n",
    "        activation=\"relu\",\n",
    "        kernel_regularizer=tf.keras.regularizers.l2(0.04),\n",
    "        name=\"Hidden2\",\n",
    "    ))\n",
    "    _model.add(tf.keras.layers.Dense(\n",
    "        units=1,\n",
    "        activation=\"relu\",\n",
    "        name=\"Output\",\n",
    "    ))\n",
    "    _model.compile(\n",
    "        optimizer=tf.keras.optimizers.Adam(learning_rate=_learning_rate),\n",
    "        loss=\"mean_squared_error\",\n",
    "        metrics=[tf.keras.metrics.MeanSquaredError()],\n",
    "    )\n",
    "    return _model\n",
    "\n",
    "def train_model(_model, _dataset, _epochs, _batch_size, _label):\n",
    "    _features = {\n",
    "        name: np.array(value) for name, value in _dataset.items() if name != _label\n",
    "    }\n",
    "    _label = np.array(_dataset[_label])\n",
    "    _history = _model.fit(\n",
    "        x=_features,\n",
    "        y=_label,\n",
    "        epochs=_epochs,\n",
    "        batch_size=_batch_size,\n",
    "    )\n",
    "    _trained_epochs = _history.epoch\n",
    "    _hist = pd.DataFrame(_history.history)\n",
    "    _mse = _hist[\"mean_squared_error\"]\n",
    "    return _trained_epochs, _mse"
   ],
   "metadata": {
    "collapsed": false,
    "pycharm": {
     "name": "#%%\n"
    }
   }
  },
  {
   "cell_type": "code",
   "execution_count": 29,
   "outputs": [
    {
     "name": "stdout",
     "output_type": "stream",
     "text": [
      "Epoch 1/15\n",
      "WARNING:tensorflow:Layers in a Sequential model should only have a single input tensor, but we receive a <class 'dict'> input: {'longitude': <tf.Tensor 'ExpandDims_3:0' shape=(1000, 1) dtype=float32>, 'latitude': <tf.Tensor 'ExpandDims_2:0' shape=(1000, 1) dtype=float32>, 'housing_median_age': <tf.Tensor 'ExpandDims_1:0' shape=(1000, 1) dtype=float32>, 'total_rooms': <tf.Tensor 'ExpandDims_7:0' shape=(1000, 1) dtype=float32>, 'total_bedrooms': <tf.Tensor 'ExpandDims_6:0' shape=(1000, 1) dtype=float32>, 'population': <tf.Tensor 'ExpandDims_5:0' shape=(1000, 1) dtype=float32>, 'households': <tf.Tensor 'ExpandDims:0' shape=(1000, 1) dtype=float32>, 'median_income': <tf.Tensor 'ExpandDims_4:0' shape=(1000, 1) dtype=float32>}\n",
      "Consider rewriting this model with the Functional API.\n",
      "WARNING:tensorflow:Layers in a Sequential model should only have a single input tensor, but we receive a <class 'dict'> input: {'longitude': <tf.Tensor 'ExpandDims_3:0' shape=(1000, 1) dtype=float32>, 'latitude': <tf.Tensor 'ExpandDims_2:0' shape=(1000, 1) dtype=float32>, 'housing_median_age': <tf.Tensor 'ExpandDims_1:0' shape=(1000, 1) dtype=float32>, 'total_rooms': <tf.Tensor 'ExpandDims_7:0' shape=(1000, 1) dtype=float32>, 'total_bedrooms': <tf.Tensor 'ExpandDims_6:0' shape=(1000, 1) dtype=float32>, 'population': <tf.Tensor 'ExpandDims_5:0' shape=(1000, 1) dtype=float32>, 'households': <tf.Tensor 'ExpandDims:0' shape=(1000, 1) dtype=float32>, 'median_income': <tf.Tensor 'ExpandDims_4:0' shape=(1000, 1) dtype=float32>}\n",
      "Consider rewriting this model with the Functional API.\n",
      "17/17 [==============================] - 30s 2s/step - loss: 12.1462 - mean_squared_error: 0.7731\n",
      "Epoch 2/15\n",
      "17/17 [==============================] - 27s 2s/step - loss: 2.3518 - mean_squared_error: 0.6246\n",
      "Epoch 3/15\n",
      "17/17 [==============================] - 27s 2s/step - loss: 1.0060 - mean_squared_error: 0.6263\n",
      "Epoch 4/15\n",
      "17/17 [==============================] - 25s 1s/step - loss: 0.7269 - mean_squared_error: 0.6200\n",
      "Epoch 5/15\n",
      "17/17 [==============================] - 26s 2s/step - loss: 0.6752 - mean_squared_error: 0.6163\n",
      "Epoch 6/15\n",
      "17/17 [==============================] - 26s 2s/step - loss: 0.6603 - mean_squared_error: 0.6145\n",
      "Epoch 7/15\n",
      "17/17 [==============================] - 28s 2s/step - loss: 0.6552 - mean_squared_error: 0.6109\n",
      "Epoch 8/15\n",
      "17/17 [==============================] - 25s 1s/step - loss: 0.6502 - mean_squared_error: 0.6094\n",
      "Epoch 9/15\n",
      "17/17 [==============================] - 25s 1s/step - loss: 0.6479 - mean_squared_error: 0.6063\n",
      "Epoch 10/15\n",
      "17/17 [==============================] - 25s 1s/step - loss: 0.6450 - mean_squared_error: 0.6058\n",
      "Epoch 11/15\n",
      "17/17 [==============================] - 25s 1s/step - loss: 0.6447 - mean_squared_error: 0.6068\n",
      "Epoch 12/15\n",
      "17/17 [==============================] - 25s 1s/step - loss: 0.6459 - mean_squared_error: 0.6076\n",
      "Epoch 13/15\n",
      "17/17 [==============================] - 25s 1s/step - loss: 0.6493 - mean_squared_error: 0.6124\n",
      "Epoch 14/15\n",
      "17/17 [==============================] - 26s 2s/step - loss: 0.6387 - mean_squared_error: 0.6036\n",
      "Epoch 15/15\n",
      "17/17 [==============================] - 26s 2s/step - loss: 0.6375 - mean_squared_error: 0.6018\n"
     ]
    },
    {
     "data": {
      "text/plain": "<Figure size 432x288 with 1 Axes>",
      "image/png": "[encoded data removed]"
     },
     "metadata": {},
     "output_type": "display_data"
    },
    {
     "name": "stdout",
     "output_type": "stream",
     "text": [
      "WARNING:tensorflow:Layers in a Sequential model should only have a single input tensor, but we receive a <class 'dict'> input: {'longitude': <tf.Tensor 'ExpandDims_3:0' shape=(None, 1) dtype=float32>, 'latitude': <tf.Tensor 'ExpandDims_2:0' shape=(None, 1) dtype=float32>, 'housing_median_age': <tf.Tensor 'ExpandDims_1:0' shape=(None, 1) dtype=float32>, 'total_rooms': <tf.Tensor 'ExpandDims_7:0' shape=(None, 1) dtype=float32>, 'total_bedrooms': <tf.Tensor 'ExpandDims_6:0' shape=(None, 1) dtype=float32>, 'population': <tf.Tensor 'ExpandDims_5:0' shape=(None, 1) dtype=float32>, 'households': <tf.Tensor 'ExpandDims:0' shape=(None, 1) dtype=float32>, 'median_income': <tf.Tensor 'ExpandDims_4:0' shape=(None, 1) dtype=float32>}\n",
      "Consider rewriting this model with the Functional API.\n",
      "94/94 [==============================] - 7s 69ms/step - loss: 0.6542 - mean_squared_error: 0.6197\n"
     ]
    },
    {
     "data": {
      "text/plain": "[0.6542012095451355, 0.6196721196174622]"
     },
     "execution_count": 29,
     "metadata": {},
     "output_type": "execute_result"
    }
   ],
   "source": [
    "learning_rate = 0.01\n",
    "epochs = 15\n",
    "batch_size = 1000\n",
    "label = \"median_house_value\"\n",
    "\n",
    "model = create_model(learning_rate, feature_layer)\n",
    "trained_epochs, mse = train_model(model, train_df_norm, epochs, batch_size, label)\n",
    "plot_curve(trained_epochs, mse)\n",
    "\n",
    "test_features = {\n",
    "    name: np.array(value) for name, value in test_df_norm.items() if name != label\n",
    "}\n",
    "test_label = np.array(test_df_norm[label])\n",
    "model.evaluate(x=test_features, y=test_label)"
   ],
   "metadata": {
    "collapsed": false,
    "pycharm": {
     "name": "#%%\n"
    }
   }
  }
 ],
 "metadata": {
  "kernelspec": {
   "display_name": "Python 3",
   "language": "python",
   "name": "python3"
  },
  "language_info": {
   "codemirror_mode": {
    "name": "ipython",
    "version": 2
   },
   "file_extension": ".py",
   "mimetype": "text/x-python",
   "name": "python",
   "nbconvert_exporter": "python",
   "pygments_lexer": "ipython2",
   "version": "2.7.6"
  }
 },
 "nbformat": 4,
 "nbformat_minor": 0
}