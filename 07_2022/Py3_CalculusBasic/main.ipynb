{
 "cells": [
  {
   "cell_type": "code",
   "execution_count": 6,
   "outputs": [],
   "source": [
    "import math"
   ],
   "metadata": {
    "collapsed": false,
    "pycharm": {
     "name": "#%%\n"
    }
   }
  },
  {
   "cell_type": "markdown",
   "source": [
    "# Derivative"
   ],
   "metadata": {
    "collapsed": false,
    "pycharm": {
     "name": "#%% md\n"
    }
   }
  },
  {
   "cell_type": "code",
   "execution_count": 29,
   "metadata": {
    "collapsed": true,
    "pycharm": {
     "name": "#%%\n"
    }
   },
   "outputs": [],
   "source": [
    "def f(x):\n",
    "    return x**2"
   ]
  },
  {
   "cell_type": "code",
   "execution_count": 8,
   "outputs": [],
   "source": [
    "def g(x):\n",
    "    return math.sqrt(2*x + 5)"
   ],
   "metadata": {
    "collapsed": false,
    "pycharm": {
     "name": "#%%\n"
    }
   }
  },
  {
   "cell_type": "code",
   "execution_count": 9,
   "outputs": [],
   "source": [
    "def h(x):\n",
    "    return 1/(x-3)**3"
   ],
   "metadata": {
    "collapsed": false,
    "pycharm": {
     "name": "#%%\n"
    }
   }
  },
  {
   "cell_type": "code",
   "execution_count": 2,
   "outputs": [],
   "source": [
    "def derivative(f, x):\n",
    "    h = 1e-6\n",
    "    return (f(x + h) - f(x)) / h"
   ],
   "metadata": {
    "collapsed": false,
    "pycharm": {
     "name": "#%%\n"
    }
   }
  },
  {
   "cell_type": "code",
   "execution_count": 13,
   "outputs": [
    {
     "name": "stdout",
     "output_type": "stream",
     "text": [
      "-2 -4.0\n",
      "3 0.3\n",
      "5 -0.2\n"
     ]
    }
   ],
   "source": [
    "print(-2, round(derivative(f, -2), 1))\n",
    "print(3, round(derivative(g, 3), 1))\n",
    "print(5, round(derivative(h, 5), 1))"
   ],
   "metadata": {
    "collapsed": false,
    "pycharm": {
     "name": "#%%\n"
    }
   }
  },
  {
   "cell_type": "markdown",
   "source": [
    "## Tangent Lines on Parabola"
   ],
   "metadata": {
    "collapsed": false,
    "pycharm": {
     "name": "#%% md\n"
    }
   }
  },
  {
   "cell_type": "code",
   "execution_count": 27,
   "outputs": [],
   "source": [
    "def point_slope(m, x, y):\n",
    "    \"\"\"Menemukan bias garis untuk titik (x, y)\"\"\"\n",
    "    return y-m*x\n",
    "\n",
    "def tangent_line(f, x):\n",
    "    \"\"\"Menemukan garis singgung untuk fungsi f pada x\"\"\"\n",
    "    m = derivative(f, x)\n",
    "    y0 = f(x)\n",
    "    b = point_slope(m, x, y0)\n",
    "    print(f\"y = {round(m, 2)}x + {round(b, 2)}\")"
   ],
   "metadata": {
    "collapsed": false,
    "pycharm": {
     "name": "#%%\n"
    }
   }
  },
  {
   "cell_type": "code",
   "execution_count": 30,
   "outputs": [
    {
     "name": "stdout",
     "output_type": "stream",
     "text": [
      "y = 2.0x + -1.0\n",
      "y = 4.0x + -4.0\n",
      "y = 6.0x + -9.0\n",
      "y = 8.0x + -16.0\n",
      "y = 10.0x + -25.0\n",
      "y = 12.0x + -36.0\n",
      "y = 14.0x + -49.0\n",
      "y = 16.0x + -64.0\n",
      "y = 18.0x + -81.0\n"
     ]
    }
   ],
   "source": [
    "for x in range(1, 10):\n",
    "    tangent_line(f, x)"
   ],
   "metadata": {
    "collapsed": false,
    "pycharm": {
     "name": "#%%\n"
    }
   }
  },
  {
   "cell_type": "markdown",
   "source": [
    "# Integral"
   ],
   "metadata": {
    "collapsed": false,
    "pycharm": {
     "name": "#%% md\n"
    }
   }
  },
  {
   "cell_type": "code",
   "execution_count": 31,
   "outputs": [],
   "source": [
    "num_rectangles = 20\n",
    "def integral(f, a, b, num):\n",
    "    \"\"\"Menghitung integral fungsi f pada rentang [a, b] dengan num buah persegi panjang\"\"\"\n",
    "    h = (b-a)/num\n",
    "    area = sum([h * f(a + h*n) for n in range(num)])\n",
    "    return area"
   ],
   "metadata": {
    "collapsed": false,
    "pycharm": {
     "name": "#%%\n"
    }
   }
  },
  {
   "cell_type": "code",
   "execution_count": 34,
   "outputs": [
    {
     "name": "stdout",
     "output_type": "stream",
     "text": [
      "1 0.0\n",
      "2 1000.0\n",
      "3 1481.48\n",
      "4 1750.0\n",
      "5 1920.0\n",
      "6 2037.04\n",
      "7 2122.45\n",
      "8 2187.5\n",
      "9 2238.68\n",
      "10 2280.0\n",
      "11 2314.05\n",
      "12 2342.59\n",
      "13 2366.86\n",
      "14 2387.76\n",
      "15 2405.93\n",
      "16 2421.88\n",
      "17 2435.99\n",
      "18 2448.56\n",
      "19 2459.83\n",
      "20 2470.0\n",
      "21 2479.21\n",
      "22 2487.6\n",
      "23 2495.27\n",
      "24 2502.31\n",
      "25 2508.8\n",
      "26 2514.79\n",
      "27 2520.35\n",
      "28 2525.51\n",
      "29 2530.32\n",
      "30 2534.81\n",
      "31 2539.02\n",
      "32 2542.97\n",
      "33 2546.68\n",
      "34 2550.17\n",
      "35 2553.47\n",
      "36 2556.58\n",
      "37 2559.53\n",
      "38 2562.33\n",
      "39 2564.98\n",
      "40 2567.5\n",
      "41 2569.9\n",
      "42 2572.18\n",
      "43 2574.36\n",
      "44 2576.45\n",
      "45 2578.44\n",
      "46 2580.34\n",
      "47 2582.16\n",
      "48 2583.91\n",
      "49 2585.59\n",
      "50 2587.2\n",
      "51 2588.75\n",
      "52 2590.24\n",
      "53 2591.67\n",
      "54 2593.05\n",
      "55 2594.38\n",
      "56 2595.66\n",
      "57 2596.9\n",
      "58 2598.1\n",
      "59 2599.25\n",
      "60 2600.37\n",
      "61 2601.45\n",
      "62 2602.5\n",
      "63 2603.51\n",
      "64 2604.49\n",
      "65 2605.44\n",
      "66 2606.37\n",
      "67 2607.26\n",
      "68 2608.13\n",
      "69 2608.98\n",
      "70 2609.8\n",
      "71 2610.59\n",
      "72 2611.37\n",
      "73 2612.12\n",
      "74 2612.86\n",
      "75 2613.57\n",
      "76 2614.27\n",
      "77 2614.94\n",
      "78 2615.6\n",
      "79 2616.25\n",
      "80 2616.88\n",
      "81 2617.49\n",
      "82 2618.08\n",
      "83 2618.67\n",
      "84 2619.24\n",
      "85 2619.79\n",
      "86 2620.34\n",
      "87 2620.87\n",
      "88 2621.38\n",
      "89 2621.89\n",
      "90 2622.39\n",
      "91 2622.87\n",
      "92 2623.35\n",
      "93 2623.81\n",
      "94 2624.26\n",
      "95 2624.71\n",
      "96 2625.14\n",
      "97 2625.57\n",
      "98 2625.99\n",
      "99 2626.4\n"
     ]
    }
   ],
   "source": [
    "for i in range(1, 100):\n",
    "    print(i, round(integral(f, 0, 20, i), 2))"
   ],
   "metadata": {
    "collapsed": false,
    "pycharm": {
     "name": "#%%\n"
    }
   }
  }
 ],
 "metadata": {
  "kernelspec": {
   "display_name": "Python 3",
   "language": "python",
   "name": "python3"
  },
  "language_info": {
   "codemirror_mode": {
    "name": "ipython",
    "version": 2
   },
   "file_extension": ".py",
   "mimetype": "text/x-python",
   "name": "python",
   "nbconvert_exporter": "python",
   "pygments_lexer": "ipython2",
   "version": "2.7.6"
  }
 },
 "nbformat": 4,
 "nbformat_minor": 0
}