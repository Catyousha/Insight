{
 "cells": [
  {
   "cell_type": "code",
   "execution_count": 1,
   "metadata": {
    "collapsed": true,
    "pycharm": {
     "name": "#%%\n"
    }
   },
   "outputs": [],
   "source": [
    "import pandas as pd\n",
    "import tensorflow as tf\n",
    "from matplotlib import pyplot as plt\n",
    "import os\n",
    "os.environ['TF_CPP_MIN_LOG_LEVEL'] = '2'\n",
    "os.environ['KMP_DUPLICATE_LIB_OK']='True'"
   ]
  },
  {
   "cell_type": "code",
   "execution_count": 2,
   "outputs": [],
   "source": [
    "def build_model(_learning_rate):\n",
    "    _model = tf.keras.models.Sequential()\n",
    "    _model.add(tf.keras.layers.Dense(units=1, input_shape=(1,)))\n",
    "    _model.compile(\n",
    "        optimizer=tf.keras.optimizers.RMSprop(learning_rate=_learning_rate),\n",
    "        loss='mean_squared_error',\n",
    "        metrics=[tf.keras.metrics.RootMeanSquaredError()]\n",
    "    )\n",
    "    return _model"
   ],
   "metadata": {
    "collapsed": false,
    "pycharm": {
     "name": "#%%\n"
    }
   }
  },
  {
   "cell_type": "code",
   "execution_count": 3,
   "outputs": [],
   "source": [
    "def train_model(_model, _feature, _label, _epochs, _batch_size):\n",
    "    _history = _model.fit(\n",
    "        x=_feature,\n",
    "        y=_label,\n",
    "        epochs=_epochs,\n",
    "        batch_size=_batch_size,\n",
    "        verbose=1\n",
    "    )\n",
    "\n",
    "    _trained_weight = _model.get_weights()[0]\n",
    "    _trained_bias = _model.get_weights()[1]\n",
    "\n",
    "    _epochs = _history.epoch\n",
    "    _hist = pd.DataFrame(_history.history)\n",
    "\n",
    "    _rmse = _hist['root_mean_squared_error']\n",
    "    return _trained_weight, _trained_bias, _epochs, _rmse"
   ],
   "metadata": {
    "collapsed": false,
    "pycharm": {
     "name": "#%%\n"
    }
   }
  },
  {
   "cell_type": "code",
   "execution_count": 11,
   "outputs": [],
   "source": [
    "def plot_model(_trained_weight, _trained_bias, _feature, _label):\n",
    "    plt.xlabel('feature')\n",
    "    plt.ylabel('label')\n",
    "\n",
    "    plt.scatter(_feature, _label, c='red')\n",
    "\n",
    "    x0 = 0\n",
    "    y0 = _trained_bias\n",
    "    x1 = _feature[-1]\n",
    "    y1 = _trained_bias + _trained_weight * x1\n",
    "\n",
    "    plt.plot([x0, x1], [y0, y1], c='blue')\n",
    "    plt.show()"
   ],
   "metadata": {
    "collapsed": false,
    "pycharm": {
     "name": "#%%\n"
    }
   }
  },
  {
   "cell_type": "code",
   "execution_count": 14,
   "outputs": [],
   "source": [
    "def plot_loss(_epochs, _rmse):\n",
    "    plt.xlabel('epoch')\n",
    "    plt.ylabel('loss')\n",
    "    plt.plot(_epochs, _rmse, c='blue', label='loss')\n",
    "    plt.legend()\n",
    "    plt.ylim([_rmse.min() *0.97, _rmse.max()])\n",
    "    plt.show()"
   ],
   "metadata": {
    "collapsed": false,
    "pycharm": {
     "name": "#%%\n"
    }
   }
  },
  {
   "cell_type": "code",
   "execution_count": 6,
   "outputs": [],
   "source": [
    "feature = ([1.0, 2.0,  3.0,  4.0,  5.0,  6.0,  7.0,  8.0,  9.0, 10.0, 11.0, 12.0])\n",
    "label   = ([5.0, 8.8,  9.6, 14.2, 18.8, 19.5, 21.4, 26.8, 28.9, 32.0, 33.8, 38.2])"
   ],
   "metadata": {
    "collapsed": false,
    "pycharm": {
     "name": "#%%\n"
    }
   }
  },
  {
   "cell_type": "code",
   "execution_count": 16,
   "outputs": [
    {
     "name": "stdout",
     "output_type": "stream",
     "text": [
      "Epoch 1/125\n",
      "12/12 [==============================] - 0s 1ms/step - loss: 895.9937 - root_mean_squared_error: 29.9332\n",
      "Epoch 2/125\n",
      "12/12 [==============================] - 0s 733us/step - loss: 645.8694 - root_mean_squared_error: 25.4140\n",
      "Epoch 3/125\n",
      "12/12 [==============================] - 0s 774us/step - loss: 479.0447 - root_mean_squared_error: 21.8871\n",
      "Epoch 4/125\n",
      "12/12 [==============================] - 0s 635us/step - loss: 343.4603 - root_mean_squared_error: 18.5327\n",
      "Epoch 5/125\n",
      "12/12 [==============================] - 0s 680us/step - loss: 236.2884 - root_mean_squared_error: 15.3717\n",
      "Epoch 6/125\n",
      "12/12 [==============================] - 0s 771us/step - loss: 146.5753 - root_mean_squared_error: 12.1068\n",
      "Epoch 7/125\n",
      "12/12 [==============================] - 0s 771us/step - loss: 82.5624 - root_mean_squared_error: 9.0864\n",
      "Epoch 8/125\n",
      "12/12 [==============================] - 0s 954us/step - loss: 40.5779 - root_mean_squared_error: 6.3701\n",
      "Epoch 9/125\n",
      "12/12 [==============================] - 0s 1ms/step - loss: 15.1918 - root_mean_squared_error: 3.8977\n",
      "Epoch 10/125\n",
      "12/12 [==============================] - 0s 1ms/step - loss: 5.1416 - root_mean_squared_error: 2.2675\n",
      "Epoch 11/125\n",
      "12/12 [==============================] - 0s 862us/step - loss: 2.6305 - root_mean_squared_error: 1.6219\n",
      "Epoch 12/125\n",
      "12/12 [==============================] - 0s 953us/step - loss: 2.1924 - root_mean_squared_error: 1.4807\n",
      "Epoch 13/125\n",
      "12/12 [==============================] - 0s 954us/step - loss: 1.9860 - root_mean_squared_error: 1.4093\n",
      "Epoch 14/125\n",
      "12/12 [==============================] - 0s 1ms/step - loss: 2.0840 - root_mean_squared_error: 1.4436\n",
      "Epoch 15/125\n",
      "12/12 [==============================] - 0s 2ms/step - loss: 1.8126 - root_mean_squared_error: 1.3463\n",
      "Epoch 16/125\n",
      "12/12 [==============================] - 0s 864us/step - loss: 1.8875 - root_mean_squared_error: 1.3739\n",
      "Epoch 17/125\n",
      "12/12 [==============================] - 0s 957us/step - loss: 1.6612 - root_mean_squared_error: 1.2889\n",
      "Epoch 18/125\n",
      "12/12 [==============================] - 0s 864us/step - loss: 1.6030 - root_mean_squared_error: 1.2661\n",
      "Epoch 19/125\n",
      "12/12 [==============================] - 0s 954us/step - loss: 1.5299 - root_mean_squared_error: 1.2369\n",
      "Epoch 20/125\n",
      "12/12 [==============================] - 0s 862us/step - loss: 1.2697 - root_mean_squared_error: 1.1268\n",
      "Epoch 21/125\n",
      "12/12 [==============================] - 0s 2ms/step - loss: 1.4239 - root_mean_squared_error: 1.1933\n",
      "Epoch 22/125\n",
      "12/12 [==============================] - 0s 1ms/step - loss: 1.4572 - root_mean_squared_error: 1.2071\n",
      "Epoch 23/125\n",
      "12/12 [==============================] - 0s 952us/step - loss: 1.2906 - root_mean_squared_error: 1.1361\n",
      "Epoch 24/125\n",
      "12/12 [==============================] - 0s 771us/step - loss: 1.3524 - root_mean_squared_error: 1.1629\n",
      "Epoch 25/125\n",
      "12/12 [==============================] - 0s 864us/step - loss: 1.3212 - root_mean_squared_error: 1.1494\n",
      "Epoch 26/125\n",
      "12/12 [==============================] - 0s 862us/step - loss: 1.0241 - root_mean_squared_error: 1.0120\n",
      "Epoch 27/125\n",
      "12/12 [==============================] - 0s 953us/step - loss: 1.4227 - root_mean_squared_error: 1.1928\n",
      "Epoch 28/125\n",
      "12/12 [==============================] - 0s 862us/step - loss: 1.1005 - root_mean_squared_error: 1.0491\n",
      "Epoch 29/125\n",
      "12/12 [==============================] - 0s 952us/step - loss: 0.9969 - root_mean_squared_error: 0.9985\n",
      "Epoch 30/125\n",
      "12/12 [==============================] - 0s 911us/step - loss: 1.0580 - root_mean_squared_error: 1.0286\n",
      "Epoch 31/125\n",
      "12/12 [==============================] - 0s 952us/step - loss: 1.2331 - root_mean_squared_error: 1.1105\n",
      "Epoch 32/125\n",
      "12/12 [==============================] - 0s 1ms/step - loss: 0.9512 - root_mean_squared_error: 0.9753\n",
      "Epoch 33/125\n",
      "12/12 [==============================] - 0s 908us/step - loss: 1.2666 - root_mean_squared_error: 1.1254\n",
      "Epoch 34/125\n",
      "12/12 [==============================] - 0s 864us/step - loss: 1.2677 - root_mean_squared_error: 1.1259\n",
      "Epoch 35/125\n",
      "12/12 [==============================] - 0s 771us/step - loss: 1.1959 - root_mean_squared_error: 1.0936\n",
      "Epoch 36/125\n",
      "12/12 [==============================] - 0s 955us/step - loss: 1.0881 - root_mean_squared_error: 1.0431\n",
      "Epoch 37/125\n",
      "12/12 [==============================] - 0s 955us/step - loss: 1.1851 - root_mean_squared_error: 1.0886\n",
      "Epoch 38/125\n",
      "12/12 [==============================] - 0s 959us/step - loss: 1.1847 - root_mean_squared_error: 1.0884\n",
      "Epoch 39/125\n",
      "12/12 [==============================] - 0s 864us/step - loss: 1.2693 - root_mean_squared_error: 1.1266\n",
      "Epoch 40/125\n",
      "12/12 [==============================] - 0s 954us/step - loss: 1.1906 - root_mean_squared_error: 1.0911\n",
      "Epoch 41/125\n",
      "12/12 [==============================] - 0s 773us/step - loss: 1.1572 - root_mean_squared_error: 1.0758\n",
      "Epoch 42/125\n",
      "12/12 [==============================] - 0s 954us/step - loss: 1.0351 - root_mean_squared_error: 1.0174\n",
      "Epoch 43/125\n",
      "12/12 [==============================] - 0s 868us/step - loss: 1.1248 - root_mean_squared_error: 1.0606\n",
      "Epoch 44/125\n",
      "12/12 [==============================] - 0s 1ms/step - loss: 1.0791 - root_mean_squared_error: 1.0388\n",
      "Epoch 45/125\n",
      "12/12 [==============================] - 0s 1ms/step - loss: 0.9897 - root_mean_squared_error: 0.9948\n",
      "Epoch 46/125\n",
      "12/12 [==============================] - 0s 954us/step - loss: 1.3984 - root_mean_squared_error: 1.1825\n",
      "Epoch 47/125\n",
      "12/12 [==============================] - 0s 773us/step - loss: 1.1663 - root_mean_squared_error: 1.0800\n",
      "Epoch 48/125\n",
      "12/12 [==============================] - 0s 866us/step - loss: 1.1346 - root_mean_squared_error: 1.0652\n",
      "Epoch 49/125\n",
      "12/12 [==============================] - 0s 867us/step - loss: 1.2007 - root_mean_squared_error: 1.0958\n",
      "Epoch 50/125\n",
      "12/12 [==============================] - 0s 864us/step - loss: 1.1875 - root_mean_squared_error: 1.0897\n",
      "Epoch 51/125\n",
      "12/12 [==============================] - 0s 1ms/step - loss: 1.1690 - root_mean_squared_error: 1.0812\n",
      "Epoch 52/125\n",
      "12/12 [==============================] - 0s 955us/step - loss: 1.2089 - root_mean_squared_error: 1.0995\n",
      "Epoch 53/125\n",
      "12/12 [==============================] - 0s 1ms/step - loss: 1.1389 - root_mean_squared_error: 1.0672\n",
      "Epoch 54/125\n",
      "12/12 [==============================] - 0s 1ms/step - loss: 1.1253 - root_mean_squared_error: 1.0608\n",
      "Epoch 55/125\n",
      "12/12 [==============================] - 0s 953us/step - loss: 1.2334 - root_mean_squared_error: 1.1106\n",
      "Epoch 56/125\n",
      "12/12 [==============================] - 0s 1ms/step - loss: 1.0831 - root_mean_squared_error: 1.0407\n",
      "Epoch 57/125\n",
      "12/12 [==============================] - 0s 1ms/step - loss: 1.2165 - root_mean_squared_error: 1.1030\n",
      "Epoch 58/125\n",
      "12/12 [==============================] - 0s 771us/step - loss: 1.2327 - root_mean_squared_error: 1.1103\n",
      "Epoch 59/125\n",
      "12/12 [==============================] - 0s 1ms/step - loss: 1.1602 - root_mean_squared_error: 1.0771\n",
      "Epoch 60/125\n",
      "12/12 [==============================] - 0s 864us/step - loss: 1.1872 - root_mean_squared_error: 1.0896\n",
      "Epoch 61/125\n",
      "12/12 [==============================] - 0s 1ms/step - loss: 1.1875 - root_mean_squared_error: 1.0897\n",
      "Epoch 62/125\n",
      "12/12 [==============================] - 0s 953us/step - loss: 1.1554 - root_mean_squared_error: 1.0749\n",
      "Epoch 63/125\n",
      "12/12 [==============================] - 0s 1ms/step - loss: 1.1017 - root_mean_squared_error: 1.0496\n",
      "Epoch 64/125\n",
      "12/12 [==============================] - 0s 954us/step - loss: 1.1692 - root_mean_squared_error: 1.0813\n",
      "Epoch 65/125\n",
      "12/12 [==============================] - 0s 817us/step - loss: 1.2375 - root_mean_squared_error: 1.1124\n",
      "Epoch 66/125\n",
      "12/12 [==============================] - 0s 1ms/step - loss: 1.0626 - root_mean_squared_error: 1.0308\n",
      "Epoch 67/125\n",
      "12/12 [==============================] - 0s 1ms/step - loss: 0.9651 - root_mean_squared_error: 0.9824\n",
      "Epoch 68/125\n",
      "12/12 [==============================] - 0s 864us/step - loss: 1.3414 - root_mean_squared_error: 1.1582\n",
      "Epoch 69/125\n",
      "12/12 [==============================] - 0s 864us/step - loss: 1.2263 - root_mean_squared_error: 1.1074\n",
      "Epoch 70/125\n",
      "12/12 [==============================] - 0s 954us/step - loss: 1.1221 - root_mean_squared_error: 1.0593\n",
      "Epoch 71/125\n",
      "12/12 [==============================] - 0s 954us/step - loss: 1.0976 - root_mean_squared_error: 1.0476\n",
      "Epoch 72/125\n",
      "12/12 [==============================] - 0s 954us/step - loss: 1.2299 - root_mean_squared_error: 1.1090\n",
      "Epoch 73/125\n",
      "12/12 [==============================] - 0s 954us/step - loss: 1.1925 - root_mean_squared_error: 1.0920\n",
      "Epoch 74/125\n",
      "12/12 [==============================] - 0s 861us/step - loss: 1.1898 - root_mean_squared_error: 1.0908\n",
      "Epoch 75/125\n",
      "12/12 [==============================] - 0s 952us/step - loss: 1.1894 - root_mean_squared_error: 1.0906\n",
      "Epoch 76/125\n",
      "12/12 [==============================] - 0s 953us/step - loss: 1.1929 - root_mean_squared_error: 1.0922\n",
      "Epoch 77/125\n",
      "12/12 [==============================] - 0s 1ms/step - loss: 1.0665 - root_mean_squared_error: 1.0327\n",
      "Epoch 78/125\n",
      "12/12 [==============================] - 0s 910us/step - loss: 1.2983 - root_mean_squared_error: 1.1394\n",
      "Epoch 79/125\n",
      "12/12 [==============================] - 0s 864us/step - loss: 1.1416 - root_mean_squared_error: 1.0685\n",
      "Epoch 80/125\n",
      "12/12 [==============================] - 0s 909us/step - loss: 1.1496 - root_mean_squared_error: 1.0722\n",
      "Epoch 81/125\n",
      "12/12 [==============================] - 0s 908us/step - loss: 1.0764 - root_mean_squared_error: 1.0375\n",
      "Epoch 82/125\n",
      "12/12 [==============================] - 0s 863us/step - loss: 1.1777 - root_mean_squared_error: 1.0852\n",
      "Epoch 83/125\n",
      "12/12 [==============================] - 0s 1ms/step - loss: 0.9264 - root_mean_squared_error: 0.9625\n",
      "Epoch 84/125\n",
      "12/12 [==============================] - 0s 952us/step - loss: 0.8590 - root_mean_squared_error: 0.9268\n",
      "Epoch 85/125\n",
      "12/12 [==============================] - 0s 862us/step - loss: 1.1287 - root_mean_squared_error: 1.0624\n",
      "Epoch 86/125\n",
      "12/12 [==============================] - 0s 862us/step - loss: 1.2883 - root_mean_squared_error: 1.1350\n",
      "Epoch 87/125\n",
      "12/12 [==============================] - 0s 956us/step - loss: 1.1316 - root_mean_squared_error: 1.0638\n",
      "Epoch 88/125\n",
      "12/12 [==============================] - 0s 1ms/step - loss: 0.9527 - root_mean_squared_error: 0.9761\n",
      "Epoch 89/125\n",
      "12/12 [==============================] - 0s 1ms/step - loss: 1.3121 - root_mean_squared_error: 1.1455\n",
      "Epoch 90/125\n",
      "12/12 [==============================] - 0s 861us/step - loss: 0.9126 - root_mean_squared_error: 0.9553\n",
      "Epoch 91/125\n",
      "12/12 [==============================] - 0s 953us/step - loss: 1.1904 - root_mean_squared_error: 1.0911\n",
      "Epoch 92/125\n",
      "12/12 [==============================] - 0s 1ms/step - loss: 1.2731 - root_mean_squared_error: 1.1283\n",
      "Epoch 93/125\n",
      "12/12 [==============================] - 0s 955us/step - loss: 1.0418 - root_mean_squared_error: 1.0207\n",
      "Epoch 94/125\n",
      "12/12 [==============================] - 0s 908us/step - loss: 1.1234 - root_mean_squared_error: 1.0599\n",
      "Epoch 95/125\n",
      "12/12 [==============================] - 0s 771us/step - loss: 1.0760 - root_mean_squared_error: 1.0373\n",
      "Epoch 96/125\n",
      "12/12 [==============================] - 0s 862us/step - loss: 1.0491 - root_mean_squared_error: 1.0243\n",
      "Epoch 97/125\n",
      "12/12 [==============================] - 0s 771us/step - loss: 1.1522 - root_mean_squared_error: 1.0734\n",
      "Epoch 98/125\n",
      "12/12 [==============================] - 0s 953us/step - loss: 1.0950 - root_mean_squared_error: 1.0464\n",
      "Epoch 99/125\n",
      "12/12 [==============================] - 0s 771us/step - loss: 0.7862 - root_mean_squared_error: 0.8867\n",
      "Epoch 100/125\n",
      "12/12 [==============================] - 0s 952us/step - loss: 1.0511 - root_mean_squared_error: 1.0252\n",
      "Epoch 101/125\n",
      "12/12 [==============================] - 0s 952us/step - loss: 1.2176 - root_mean_squared_error: 1.1035\n",
      "Epoch 102/125\n",
      "12/12 [==============================] - 0s 681us/step - loss: 1.0250 - root_mean_squared_error: 1.0124\n",
      "Epoch 103/125\n",
      "12/12 [==============================] - 0s 863us/step - loss: 1.1988 - root_mean_squared_error: 1.0949\n",
      "Epoch 104/125\n",
      "12/12 [==============================] - 0s 862us/step - loss: 1.0175 - root_mean_squared_error: 1.0087\n",
      "Epoch 105/125\n",
      "12/12 [==============================] - 0s 862us/step - loss: 1.0236 - root_mean_squared_error: 1.0117\n",
      "Epoch 106/125\n",
      "12/12 [==============================] - 0s 863us/step - loss: 1.1491 - root_mean_squared_error: 1.0719\n",
      "Epoch 107/125\n",
      "12/12 [==============================] - 0s 864us/step - loss: 1.3085 - root_mean_squared_error: 1.1439\n",
      "Epoch 108/125\n",
      "12/12 [==============================] - 0s 862us/step - loss: 1.1929 - root_mean_squared_error: 1.0922\n",
      "Epoch 109/125\n",
      "12/12 [==============================] - 0s 771us/step - loss: 1.0231 - root_mean_squared_error: 1.0115\n",
      "Epoch 110/125\n",
      "12/12 [==============================] - 0s 861us/step - loss: 1.3018 - root_mean_squared_error: 1.1410\n",
      "Epoch 111/125\n",
      "12/12 [==============================] - 0s 1ms/step - loss: 1.1222 - root_mean_squared_error: 1.0593\n",
      "Epoch 112/125\n",
      "12/12 [==============================] - 0s 952us/step - loss: 1.1691 - root_mean_squared_error: 1.0813\n",
      "Epoch 113/125\n",
      "12/12 [==============================] - 0s 1ms/step - loss: 1.1780 - root_mean_squared_error: 1.0853\n",
      "Epoch 114/125\n",
      "12/12 [==============================] - 0s 771us/step - loss: 1.0930 - root_mean_squared_error: 1.0454\n",
      "Epoch 115/125\n",
      "12/12 [==============================] - 0s 954us/step - loss: 1.0422 - root_mean_squared_error: 1.0209\n",
      "Epoch 116/125\n",
      "12/12 [==============================] - 0s 861us/step - loss: 1.1974 - root_mean_squared_error: 1.0943\n",
      "Epoch 117/125\n",
      "12/12 [==============================] - 0s 955us/step - loss: 1.2062 - root_mean_squared_error: 1.0983\n",
      "Epoch 118/125\n",
      "12/12 [==============================] - 0s 773us/step - loss: 0.9824 - root_mean_squared_error: 0.9912\n",
      "Epoch 119/125\n",
      "12/12 [==============================] - 0s 863us/step - loss: 1.2917 - root_mean_squared_error: 1.1365\n",
      "Epoch 120/125\n",
      "12/12 [==============================] - 0s 862us/step - loss: 0.8336 - root_mean_squared_error: 0.9130\n",
      "Epoch 121/125\n",
      "12/12 [==============================] - 0s 861us/step - loss: 1.2500 - root_mean_squared_error: 1.1180\n",
      "Epoch 122/125\n",
      "12/12 [==============================] - 0s 862us/step - loss: 1.2396 - root_mean_squared_error: 1.1134\n",
      "Epoch 123/125\n",
      "12/12 [==============================] - 0s 863us/step - loss: 1.0899 - root_mean_squared_error: 1.0440\n",
      "Epoch 124/125\n",
      "12/12 [==============================] - 0s 864us/step - loss: 1.1743 - root_mean_squared_error: 1.0837\n",
      "Epoch 125/125\n",
      "12/12 [==============================] - 0s 952us/step - loss: 0.9442 - root_mean_squared_error: 0.9717\n"
     ]
    }
   ],
   "source": [
    "learning_rate = 0.05\n",
    "epochs = 125\n",
    "batch_size = 1\n",
    "\n",
    "model = build_model(learning_rate)\n",
    "trained_weight, trained_bias, epochs, rmse = train_model(model, feature, label, epochs, batch_size)"
   ],
   "metadata": {
    "collapsed": false,
    "pycharm": {
     "name": "#%%\n"
    }
   }
  },
  {
   "cell_type": "code",
   "execution_count": 12,
   "outputs": [
    {
     "data": {
      "text/plain": "<Figure size 432x288 with 1 Axes>",
      "image/png": "[encoded data removed]"
     },
     "metadata": {
      "needs_background": "light"
     },
     "output_type": "display_data"
    }
   ],
   "source": [
    "plot_model(trained_weight, trained_bias, feature, label)"
   ],
   "metadata": {
    "collapsed": false,
    "pycharm": {
     "name": "#%%\n"
    }
   }
  },
  {
   "cell_type": "code",
   "execution_count": 15,
   "outputs": [
    {
     "data": {
      "text/plain": "<Figure size 432x288 with 1 Axes>",
      "image/png": "[encoded data removed]"
     },
     "metadata": {
      "needs_background": "light"
     },
     "output_type": "display_data"
    }
   ],
   "source": [
    "plot_loss(epochs, rmse)"
   ],
   "metadata": {
    "collapsed": false,
    "pycharm": {
     "name": "#%%\n"
    }
   }
  }
 ],
 "metadata": {
  "kernelspec": {
   "display_name": "Python 3",
   "language": "python",
   "name": "python3"
  },
  "language_info": {
   "codemirror_mode": {
    "name": "ipython",
    "version": 2
   },
   "file_extension": ".py",
   "mimetype": "text/x-python",
   "name": "python",
   "nbconvert_exporter": "python",
   "pygments_lexer": "ipython2",
   "version": "2.7.6"
  }
 },
 "nbformat": 4,
 "nbformat_minor": 0
}