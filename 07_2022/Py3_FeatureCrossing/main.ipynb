{
 "cells": [
  {
   "cell_type": "code",
   "execution_count": 43,
   "metadata": {
    "collapsed": true,
    "pycharm": {
     "name": "#%%\n"
    }
   },
   "outputs": [],
   "source": [
    "import numpy as np\n",
    "import pandas as pd\n",
    "import tensorflow as tf\n",
    "from tensorflow.keras import layers\n",
    "from matplotlib import pyplot as plt\n",
    "import os\n",
    "\n",
    "os.environ['KMP_DUPLICATE_LIB_OK'] = 'True'"
   ]
  },
  {
   "cell_type": "code",
   "execution_count": 44,
   "outputs": [
    {
     "data": {
      "text/plain": "       longitude  latitude  housing_median_age  total_rooms  total_bedrooms  \\\n8973     -118.92     35.37                17.0       3589.0           701.0   \n3939     -117.96     33.94                31.0       2397.0           518.0   \n16214    -122.48     37.78                52.0       2666.0           515.0   \n9955     -119.75     34.45                26.0       3578.0           677.0   \n699      -117.05     32.97                17.0       9911.0          1436.0   \n\n       population  households  median_income  median_house_value  \n8973       1746.0       640.0         2.4919                75.7  \n3939       1407.0       476.0         2.6641               185.2  \n16214      1362.0       494.0         4.2180               393.8  \n9955       1504.0       618.0         4.1375               395.0  \n699        4763.0      1414.0         5.5882               194.3  ",
      "text/html": "<div>\n<style scoped>\n    .dataframe tbody tr th:only-of-type {\n        vertical-align: middle;\n    }\n\n    .dataframe tbody tr th {\n        vertical-align: top;\n    }\n\n    .dataframe thead th {\n        text-align: right;\n    }\n</style>\n<table border=\"1\" class=\"dataframe\">\n  <thead>\n    <tr style=\"text-align: right;\">\n      <th></th>\n      <th>longitude</th>\n      <th>latitude</th>\n      <th>housing_median_age</th>\n      <th>total_rooms</th>\n      <th>total_bedrooms</th>\n      <th>population</th>\n      <th>households</th>\n      <th>median_income</th>\n      <th>median_house_value</th>\n    </tr>\n  </thead>\n  <tbody>\n    <tr>\n      <th>8973</th>\n      <td>-118.92</td>\n      <td>35.37</td>\n      <td>17.0</td>\n      <td>3589.0</td>\n      <td>701.0</td>\n      <td>1746.0</td>\n      <td>640.0</td>\n      <td>2.4919</td>\n      <td>75.7</td>\n    </tr>\n    <tr>\n      <th>3939</th>\n      <td>-117.96</td>\n      <td>33.94</td>\n      <td>31.0</td>\n      <td>2397.0</td>\n      <td>518.0</td>\n      <td>1407.0</td>\n      <td>476.0</td>\n      <td>2.6641</td>\n      <td>185.2</td>\n    </tr>\n    <tr>\n      <th>16214</th>\n      <td>-122.48</td>\n      <td>37.78</td>\n      <td>52.0</td>\n      <td>2666.0</td>\n      <td>515.0</td>\n      <td>1362.0</td>\n      <td>494.0</td>\n      <td>4.2180</td>\n      <td>393.8</td>\n    </tr>\n    <tr>\n      <th>9955</th>\n      <td>-119.75</td>\n      <td>34.45</td>\n      <td>26.0</td>\n      <td>3578.0</td>\n      <td>677.0</td>\n      <td>1504.0</td>\n      <td>618.0</td>\n      <td>4.1375</td>\n      <td>395.0</td>\n    </tr>\n    <tr>\n      <th>699</th>\n      <td>-117.05</td>\n      <td>32.97</td>\n      <td>17.0</td>\n      <td>9911.0</td>\n      <td>1436.0</td>\n      <td>4763.0</td>\n      <td>1414.0</td>\n      <td>5.5882</td>\n      <td>194.3</td>\n    </tr>\n  </tbody>\n</table>\n</div>"
     },
     "execution_count": 44,
     "metadata": {},
     "output_type": "execute_result"
    }
   ],
   "source": [
    "train_df = pd.read_csv(\"https://download.mlcc.google.com/mledu-datasets/california_housing_train.csv\")\n",
    "test_df = pd.read_csv(\"https://download.mlcc.google.com/mledu-datasets/california_housing_test.csv\")\n",
    "\n",
    "# Scale the labels\n",
    "scale_factor = 1000.0\n",
    "# Scale the training set's label.\n",
    "train_df[\"median_house_value\"] /= scale_factor\n",
    "train_df = train_df.reindex(np.random.permutation(train_df.index))\n",
    "\n",
    "# Scale the test set's label\n",
    "test_df[\"median_house_value\"] /= scale_factor\n",
    "train_df.head()"
   ],
   "metadata": {
    "collapsed": false,
    "pycharm": {
     "name": "#%%\n"
    }
   }
  },
  {
   "cell_type": "code",
   "execution_count": 45,
   "outputs": [],
   "source": [
    "feature_cols = []\n",
    "resolution_in_degrees = 0.4\n",
    "\n",
    "# merepresentasikan kolom-kolom yang akan digunakan sebagai feature\n",
    "lat_col = tf.feature_column.numeric_column(\"latitude\")\n",
    "\n",
    "# bikin np.array dari latitude terkecil sampai terbesar dengan resolusi / interval 1\n",
    "lat_boundaries = list(np.arange(int(min(train_df[\"latitude\"])), int(max(train_df[\"latitude\"])), resolution_in_degrees))\n",
    "\n",
    "# bikin tempat untuk mewadahi latitude dengan bucket / binning sekian\n",
    "latitude = tf.feature_column.bucketized_column(lat_col, boundaries=lat_boundaries)\n",
    "\n",
    "long_col = tf.feature_column.numeric_column(\"longitude\")\n",
    "long_boundaries = list(np.arange(int(min(train_df[\"longitude\"])), int(max(train_df[\"longitude\"])), resolution_in_degrees))\n",
    "longitude = tf.feature_column.bucketized_column(long_col, boundaries=long_boundaries)\n",
    "\n",
    "\n",
    "# bikin crossed column antara lat & long\n",
    "lat_x_long = tf.feature_column.crossed_column([latitude, longitude], hash_bucket_size=100)\n",
    "\n",
    "# jadikan crossed column tadi sebagai indicator column (One-Hot Encoding)\n",
    "crossed_feature = tf.feature_column.indicator_column(lat_x_long)\n",
    "\n",
    "feature_cols.append(crossed_feature)\n",
    "cross_feature_layer = layers.DenseFeatures(feature_cols)"
   ],
   "metadata": {
    "collapsed": false,
    "pycharm": {
     "name": "#%%\n"
    }
   }
  },
  {
   "cell_type": "code",
   "execution_count": 46,
   "outputs": [],
   "source": [
    "def create_model(_learning_rate, _feature_layer):\n",
    "    _model = tf.keras.Sequential()\n",
    "    _model.add(_feature_layer)\n",
    "    _model.add(layers.Dense(units=1, input_shape=(1,)))\n",
    "    _model.compile(\n",
    "        optimizer=tf.keras.optimizers.RMSprop(learning_rate=_learning_rate),\n",
    "        loss=\"mean_squared_error\",\n",
    "        metrics=[tf.keras.metrics.RootMeanSquaredError()],\n",
    "    )\n",
    "    return _model\n",
    "\n",
    "def train_model(_model, _dataset, _epochs, _batch_size, _label_name, _validation_split):\n",
    "    _features = {\n",
    "        name:np.array(value) for name, value in _dataset.items() if name != _label_name\n",
    "    }\n",
    "    _labels = np.array(_dataset[_label_name])\n",
    "    _history = _model.fit(\n",
    "        x=_features,\n",
    "        y=_labels,\n",
    "        batch_size=_batch_size,\n",
    "        epochs=_epochs,\n",
    "        shuffle=True,\n",
    "        validation_split=_validation_split,\n",
    "        verbose=0,\n",
    "    )\n",
    "    _epochs_trained = _history.epoch\n",
    "    _hist = pd.DataFrame(_history.history)\n",
    "    _rmse = _hist[\"root_mean_squared_error\"]\n",
    "\n",
    "    return _epochs_trained, _rmse\n",
    "\n",
    "def plot_loss(_epochs, _rmse):\n",
    "    plt.figure()\n",
    "    plt.xlabel(\"Epoch\")\n",
    "    plt.ylabel(\"Root Mean Squared Error\")\n",
    "    plt.plot(_epochs, _rmse, label=\"Loss\")\n",
    "    plt.legend()\n",
    "    plt.ylim(_rmse.min()*0.95, _rmse.max()*1.05)\n",
    "    plt.show()"
   ],
   "metadata": {
    "collapsed": false,
    "pycharm": {
     "name": "#%%\n"
    }
   }
  },
  {
   "cell_type": "code",
   "execution_count": 47,
   "outputs": [
    {
     "name": "stdout",
     "output_type": "stream",
     "text": [
      "WARNING:tensorflow:Layers in a Sequential model should only have a single input tensor, but we receive a <class 'dict'> input: {'longitude': <tf.Tensor 'ExpandDims_3:0' shape=(100, 1) dtype=float32>, 'latitude': <tf.Tensor 'ExpandDims_2:0' shape=(100, 1) dtype=float32>, 'housing_median_age': <tf.Tensor 'ExpandDims_1:0' shape=(100, 1) dtype=float32>, 'total_rooms': <tf.Tensor 'ExpandDims_7:0' shape=(100, 1) dtype=float32>, 'total_bedrooms': <tf.Tensor 'ExpandDims_6:0' shape=(100, 1) dtype=float32>, 'population': <tf.Tensor 'ExpandDims_5:0' shape=(100, 1) dtype=float32>, 'households': <tf.Tensor 'ExpandDims:0' shape=(100, 1) dtype=float32>, 'median_income': <tf.Tensor 'ExpandDims_4:0' shape=(100, 1) dtype=float32>}\n",
      "Consider rewriting this model with the Functional API.\n",
      "WARNING:tensorflow:Layers in a Sequential model should only have a single input tensor, but we receive a <class 'dict'> input: {'longitude': <tf.Tensor 'ExpandDims_3:0' shape=(100, 1) dtype=float32>, 'latitude': <tf.Tensor 'ExpandDims_2:0' shape=(100, 1) dtype=float32>, 'housing_median_age': <tf.Tensor 'ExpandDims_1:0' shape=(100, 1) dtype=float32>, 'total_rooms': <tf.Tensor 'ExpandDims_7:0' shape=(100, 1) dtype=float32>, 'total_bedrooms': <tf.Tensor 'ExpandDims_6:0' shape=(100, 1) dtype=float32>, 'population': <tf.Tensor 'ExpandDims_5:0' shape=(100, 1) dtype=float32>, 'households': <tf.Tensor 'ExpandDims:0' shape=(100, 1) dtype=float32>, 'median_income': <tf.Tensor 'ExpandDims_4:0' shape=(100, 1) dtype=float32>}\n",
      "Consider rewriting this model with the Functional API.\n",
      "WARNING:tensorflow:Layers in a Sequential model should only have a single input tensor, but we receive a <class 'dict'> input: {'longitude': <tf.Tensor 'ExpandDims_3:0' shape=(100, 1) dtype=float32>, 'latitude': <tf.Tensor 'ExpandDims_2:0' shape=(100, 1) dtype=float32>, 'housing_median_age': <tf.Tensor 'ExpandDims_1:0' shape=(100, 1) dtype=float32>, 'total_rooms': <tf.Tensor 'ExpandDims_7:0' shape=(100, 1) dtype=float32>, 'total_bedrooms': <tf.Tensor 'ExpandDims_6:0' shape=(100, 1) dtype=float32>, 'population': <tf.Tensor 'ExpandDims_5:0' shape=(100, 1) dtype=float32>, 'households': <tf.Tensor 'ExpandDims:0' shape=(100, 1) dtype=float32>, 'median_income': <tf.Tensor 'ExpandDims_4:0' shape=(100, 1) dtype=float32>}\n",
      "Consider rewriting this model with the Functional API.\n"
     ]
    },
    {
     "data": {
      "text/plain": "<Figure size 432x288 with 1 Axes>",
      "image/png": "[encoded data removed]"
     },
     "metadata": {
      "needs_background": "light"
     },
     "output_type": "display_data"
    },
    {
     "name": "stdout",
     "output_type": "stream",
     "text": [
      "\n",
      "Evaluate against test dataset:\n",
      "30/30 [==============================] - 0s 823us/step - loss: 8779.7266 - root_mean_squared_error: 93.7002\n"
     ]
    },
    {
     "data": {
      "text/plain": "[8779.7265625, 93.7001953125]"
     },
     "execution_count": 47,
     "metadata": {},
     "output_type": "execute_result"
    }
   ],
   "source": [
    "learning_rate = 0.05\n",
    "epochs = 30\n",
    "batch_size = 100\n",
    "validation_split = 0.2\n",
    "label_name = \"median_house_value\"\n",
    "\n",
    "model = create_model(learning_rate, cross_feature_layer)\n",
    "epochs_trained, rmse = train_model(model, train_df, epochs, batch_size, label_name, validation_split)\n",
    "plot_loss(epochs_trained, rmse)\n",
    "\n",
    "print(\"\\nEvaluate against test dataset:\")\n",
    "test_features = {\n",
    "    name:np.array(value) for name, value in test_df.items() if name != label_name\n",
    "}\n",
    "test_labels = np.array(test_df[label_name])\n",
    "model.evaluate(test_features, test_labels, batch_size=batch_size)"
   ],
   "metadata": {
    "collapsed": false,
    "pycharm": {
     "name": "#%%\n"
    }
   }
  }
 ],
 "metadata": {
  "kernelspec": {
   "display_name": "Python 3",
   "language": "python",
   "name": "python3"
  },
  "language_info": {
   "codemirror_mode": {
    "name": "ipython",
    "version": 2
   },
   "file_extension": ".py",
   "mimetype": "text/x-python",
   "name": "python",
   "nbconvert_exporter": "python",
   "pygments_lexer": "ipython2",
   "version": "2.7.6"
  }
 },
 "nbformat": 4,
 "nbformat_minor": 0
}